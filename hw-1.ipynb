{
 "cells": [
  {
   "cell_type": "markdown",
   "metadata": {},
   "source": [
    "<h4>Лабороторная работа 1 👩‍💻 <h4>"
   ]
  },
  {
   "cell_type": "markdown",
   "metadata": {},
   "source": [
    "Описание:\n",
    "- BatchNorm1d ускоряет обучение за счет стабилизации распределения активаций.\n",
    "- Dropout добавляет регуляризацию, предотвращая переобучение.\n",
    "- Adam выбран за способность к быстрой сходимости при невысокой чувствительности к выбору гиперпараметров.\n",
    "\n"
   ]
  },
  {
   "cell_type": "markdown",
   "metadata": {},
   "source": [
    "<h4>Импорты<h4>"
   ]
  },
  {
   "cell_type": "code",
   "execution_count": 1,
   "metadata": {},
   "outputs": [],
   "source": [
    "import pandas as pd\n",
    "import numpy as np\n",
    "import random\n",
    "import matplotlib.pyplot as plt\n",
    "from sklearn.metrics import classification_report\n",
    "from sklearn.model_selection import train_test_split\n",
    "from sklearn.preprocessing import StandardScaler\n",
    "import torch\n",
    "from torch.utils.data import Dataset, DataLoader\n",
    "import torch.nn as nn\n",
    "import torch.optim as optim\n"
   ]
  },
  {
   "cell_type": "markdown",
   "metadata": {},
   "source": [
    "<h4>Константы<h4>"
   ]
  },
  {
   "cell_type": "code",
   "execution_count": 4,
   "metadata": {},
   "outputs": [],
   "source": [
    "PATH = 'cybersequrity.csv'\n",
    "EPOCHS=20\n",
    "RANDOM_STATE = 42\n",
    "\n",
    "def set_seed(seed):\n",
    "    torch.manual_seed(seed)\n",
    "    torch.cuda.manual_seed(seed)\n",
    "    torch.backends.cudnn.deterministic = True\n",
    "    torch.backends.cudnn.benchmark = False\n",
    "    np.random.seed(seed)\n",
    "    random.seed(seed)\n",
    "set_seed(RANDOM_STATE)"
   ]
  },
  {
   "cell_type": "markdown",
   "metadata": {},
   "source": [
    "<h4>Просмотр данных<h4>"
   ]
  },
  {
   "cell_type": "code",
   "execution_count": 8,
   "metadata": {},
   "outputs": [
    {
     "name": "stdout",
     "output_type": "stream",
     "text": [
      "<class 'pandas.core.frame.DataFrame'>\n",
      "RangeIndex: 10000 entries, 0 to 9999\n",
      "Data columns (total 16 columns):\n",
      " #   Column                                  Non-Null Count  Dtype  \n",
      "---  ------                                  --------------  -----  \n",
      " 0   svcscan.fs_drivers                      10000 non-null  int64  \n",
      " 1   callbacks.ngeneric                      10000 non-null  int64  \n",
      " 2   psxview.not_in_eprocess_pool_false_avg  10000 non-null  float64\n",
      " 3   psxview.not_in_eprocess_pool            10000 non-null  int64  \n",
      " 4   callbacks.nanonymous                    10000 non-null  int64  \n",
      " 5   psxview.not_in_session                  10000 non-null  int64  \n",
      " 6   psxview.not_in_pslist                   10000 non-null  int64  \n",
      " 7   psxview.not_in_pspcid_list              10000 non-null  int64  \n",
      " 8   psxview.not_in_ethread_pool             10000 non-null  int64  \n",
      " 9   psxview.not_in_csrss_handles            10000 non-null  int64  \n",
      " 10  psxview.not_in_pslist_false_avg         10000 non-null  float64\n",
      " 11  psxview.not_in_pspcid_list_false_avg    10000 non-null  float64\n",
      " 12  psxview.not_in_deskthrd                 10000 non-null  int64  \n",
      " 13  psxview.not_in_ethread_pool_false_avg   10000 non-null  float64\n",
      " 14  psxview.not_in_session_false_avg        10000 non-null  float64\n",
      " 15  Class                                   10000 non-null  int64  \n",
      "dtypes: float64(5), int64(11)\n",
      "memory usage: 1.2 MB\n"
     ]
    },
    {
     "data": {
      "text/plain": [
       "(   svcscan.fs_drivers  callbacks.ngeneric  \\\n",
       " 0                  26                   8   \n",
       " 1                  26                   8   \n",
       " 2                  26                   8   \n",
       " 3                  26                   8   \n",
       " 4                  26                   8   \n",
       " \n",
       "    psxview.not_in_eprocess_pool_false_avg  psxview.not_in_eprocess_pool  \\\n",
       " 0                                     0.0                             0   \n",
       " 1                                     0.0                             0   \n",
       " 2                                     0.0                             0   \n",
       " 3                                     0.0                             0   \n",
       " 4                                     0.0                             0   \n",
       " \n",
       "    callbacks.nanonymous  psxview.not_in_session  psxview.not_in_pslist  \\\n",
       " 0                     0                       2                      0   \n",
       " 1                     0                       5                      3   \n",
       " 2                     0                       9                      7   \n",
       " 3                     0                       3                      1   \n",
       " 4                     0                       2                      0   \n",
       " \n",
       "    psxview.not_in_pspcid_list  psxview.not_in_ethread_pool  \\\n",
       " 0                           0                            0   \n",
       " 1                           3                            3   \n",
       " 2                           7                            7   \n",
       " 3                           1                            2   \n",
       " 4                           0                            0   \n",
       " \n",
       "    psxview.not_in_csrss_handles  psxview.not_in_pslist_false_avg  \\\n",
       " 0                             4                         0.000000   \n",
       " 1                             7                         0.073171   \n",
       " 2                            11                         0.152174   \n",
       " 3                             6                         0.022222   \n",
       " 4                             4                         0.000000   \n",
       " \n",
       "    psxview.not_in_pspcid_list_false_avg  psxview.not_in_deskthrd  \\\n",
       " 0                              0.000000                        6   \n",
       " 1                              0.073171                        9   \n",
       " 2                              0.152174                       13   \n",
       " 3                              0.022222                        9   \n",
       " 4                              0.000000                        6   \n",
       " \n",
       "    psxview.not_in_ethread_pool_false_avg  psxview.not_in_session_false_avg  \\\n",
       " 0                               0.000000                          0.044444   \n",
       " 1                               0.073171                          0.121951   \n",
       " 2                               0.152174                          0.195652   \n",
       " 3                               0.044444                          0.066667   \n",
       " 4                               0.000000                          0.048780   \n",
       " \n",
       "    Class  \n",
       " 0      1  \n",
       " 1      1  \n",
       " 2      1  \n",
       " 3      1  \n",
       " 4      0  ,\n",
       " None)"
      ]
     },
     "execution_count": 8,
     "metadata": {},
     "output_type": "execute_result"
    }
   ],
   "source": [
    "data = pd.read_csv(PATH)\n",
    " \n",
    "data.head(), data.info()"
   ]
  },
  {
   "cell_type": "code",
   "execution_count": 9,
   "metadata": {},
   "outputs": [],
   "source": [
    "X = data.drop(columns=['Class'])\n",
    "y = data['Class']"
   ]
  },
  {
   "cell_type": "markdown",
   "metadata": {},
   "source": [
    "<h4>Разделение датасета<h4>"
   ]
  },
  {
   "cell_type": "code",
   "execution_count": 10,
   "metadata": {},
   "outputs": [],
   "source": [
    "X_train, X_temp, y_train, y_temp = train_test_split(\n",
    "    X, y, test_size=0.4, stratify=y, random_state=RANDOM_STATE)\n",
    "X_val, X_test, y_val, y_test = train_test_split(\n",
    "    X_temp, y_temp, test_size=0.5, stratify=y_temp, random_state=42)"
   ]
  },
  {
   "cell_type": "markdown",
   "metadata": {},
   "source": [
    "Стандартизация функции с помощью StandardScaler"
   ]
  },
  {
   "cell_type": "code",
   "execution_count": 11,
   "metadata": {},
   "outputs": [],
   "source": [
    "scaler = StandardScaler()\n",
    "X_train_scaled = scaler.fit_transform(X_train)\n",
    "X_val_scaled = scaler.transform(X_val)\n",
    "X_test_scaled = scaler.transform(X_test)"
   ]
  },
  {
   "cell_type": "markdown",
   "metadata": {},
   "source": [
    "Проверка размеров"
   ]
  },
  {
   "cell_type": "code",
   "execution_count": 12,
   "metadata": {},
   "outputs": [
    {
     "data": {
      "text/plain": [
       "(6000, 2000, 2000)"
      ]
     },
     "execution_count": 12,
     "metadata": {},
     "output_type": "execute_result"
    }
   ],
   "source": [
    "len(X_train), len(X_val), len(X_test)"
   ]
  },
  {
   "cell_type": "markdown",
   "metadata": {},
   "source": [
    "Данные разделены:\n",
    "\n",
    "Обучающая выборка: 6000 \n",
    "\n",
    "Валидационная выборка: 2000 \n",
    "\n",
    "Тестовая выборка: 2000 "
   ]
  },
  {
   "cell_type": "code",
   "execution_count": 13,
   "metadata": {},
   "outputs": [],
   "source": [
    "class MalwareDataset(Dataset):\n",
    "    def __init__(self, features, labels):\n",
    "        self.features = torch.tensor(features, dtype=torch.float32)\n",
    "        self.labels = torch.tensor(labels.values, dtype=torch.float32)\n",
    "\n",
    "    def __len__(self):\n",
    "        return len(self.labels)\n",
    "\n",
    "    def __getitem__(self, idx):\n",
    "        return self.features[idx], self.labels[idx]"
   ]
  },
  {
   "cell_type": "markdown",
   "metadata": {},
   "source": [
    "<h4>Создание датасета<h4>"
   ]
  },
  {
   "cell_type": "code",
   "execution_count": 14,
   "metadata": {},
   "outputs": [],
   "source": [
    "train_dataset = MalwareDataset(X_train_scaled, y_train)\n",
    "val_dataset = MalwareDataset(X_val_scaled, y_val)\n",
    "test_dataset = MalwareDataset(X_test_scaled, y_test)"
   ]
  },
  {
   "cell_type": "code",
   "execution_count": 15,
   "metadata": {},
   "outputs": [],
   "source": [
    "batch_size = 64"
   ]
  },
  {
   "cell_type": "markdown",
   "metadata": {},
   "source": [
    "Это стандартный размер батча, который эффективно работает на большинстве задач. Он достаточен для стабильного обучения, при этом не слишком велик, чтобы не перегрузить память."
   ]
  },
  {
   "cell_type": "markdown",
   "metadata": {},
   "source": [
    "Создание Data Loaders"
   ]
  },
  {
   "cell_type": "code",
   "execution_count": 16,
   "metadata": {},
   "outputs": [],
   "source": [
    "train_loader = DataLoader(train_dataset, batch_size=batch_size, shuffle=True)\n",
    "val_loader = DataLoader(val_dataset, batch_size=batch_size, shuffle=False)\n",
    "test_loader = DataLoader(test_dataset, batch_size=batch_size, shuffle=False)"
   ]
  },
  {
   "cell_type": "markdown",
   "metadata": {},
   "source": [
    "Проверка одного пакета"
   ]
  },
  {
   "cell_type": "code",
   "execution_count": 17,
   "metadata": {},
   "outputs": [
    {
     "data": {
      "text/plain": [
       "[tensor([[ 1.7228e-02,  1.8260e-02, -5.8698e-02, -4.4766e-02, -2.8880e-02,\n",
       "          -6.1347e-01, -6.1364e-01, -6.1352e-01, -4.9217e-01, -4.9267e-01,\n",
       "          -7.0467e-01, -7.0452e-01, -4.7654e-01, -7.0482e-01, -7.0415e-01],\n",
       "         [ 1.7228e-02,  1.8260e-02, -5.8698e-02, -4.4766e-02, -2.8880e-02,\n",
       "           5.5466e-02,  5.5299e-02,  5.5410e-02,  3.8449e-01,  3.8358e-01,\n",
       "          -1.0897e-01, -1.0882e-01,  3.7639e-01,  3.4563e-01, -4.5291e-01],\n",
       "         [ 1.7228e-02,  1.8260e-02, -5.8698e-02, -4.4766e-02, -2.8880e-02,\n",
       "           5.5466e-02,  5.5299e-02,  5.5410e-02, -5.3842e-02, -5.4547e-02,\n",
       "           3.4603e-01,  3.4619e-01, -5.0074e-02,  1.9065e-01,  3.2688e-01],\n",
       "         [ 1.7228e-02,  1.8260e-02, -5.8698e-02, -4.4766e-02, -2.8880e-02,\n",
       "           5.5466e-02,  5.5299e-02,  5.5410e-02, -5.3842e-02, -5.4547e-02,\n",
       "          -2.7681e-02, -2.7528e-02, -5.0074e-02, -1.2785e-01, -1.8634e-01],\n",
       "         [ 1.7228e-02,  1.8260e-02, -5.8698e-02, -4.4766e-02, -2.8880e-02,\n",
       "          -6.1347e-01, -6.1364e-01, -6.1352e-01, -4.9217e-01, -4.9267e-01,\n",
       "          -7.0467e-01, -7.0452e-01, -4.7654e-01, -7.0482e-01, -8.1873e-01],\n",
       "         [ 1.7228e-02,  1.8260e-02, -5.8698e-02, -4.4766e-02, -2.8880e-02,\n",
       "          -6.1347e-01, -6.1364e-01, -6.1352e-01, -4.9217e-01, -4.9267e-01,\n",
       "          -7.0467e-01, -7.0452e-01, -5.0074e-02, -7.0482e-01, -6.5812e-01],\n",
       "         [ 1.7228e-02,  1.8260e-02, -5.8698e-02, -4.4766e-02, -2.8880e-02,\n",
       "           3.8993e-01,  3.8977e-01,  3.8987e-01,  3.8449e-01,  3.8358e-01,\n",
       "           4.1401e-01,  4.1416e-01,  3.7639e-01,  5.6785e-01,  3.5088e-01],\n",
       "         [ 1.7228e-02,  1.8260e-02, -5.8698e-02, -4.4766e-02, -2.8880e-02,\n",
       "          -6.1347e-01, -6.1364e-01, -6.1352e-01, -5.3842e-02, -5.4547e-02,\n",
       "          -7.0467e-01, -7.0452e-01, -5.0074e-02,  8.4142e-02, -7.4856e-01],\n",
       "         [ 1.7228e-02,  1.8260e-02, -5.8698e-02, -4.4766e-02, -2.8880e-02,\n",
       "          -6.1347e-01, -6.1364e-01, -6.1352e-01, -4.9217e-01, -4.9267e-01,\n",
       "          -5.1537e-01, -5.1522e-01, -4.7654e-01, -5.4349e-01, -6.0383e-01],\n",
       "         [ 1.7228e-02,  1.8260e-02, -5.8698e-02, -4.4766e-02, -2.8880e-02,\n",
       "           2.7312e+00,  2.7310e+00,  2.7311e+00,  1.9187e+00,  1.9170e+00,\n",
       "           2.7466e+00,  2.7468e+00,  1.8690e+00,  2.5307e+00,  2.7276e+00],\n",
       "         [ 1.7228e-02,  1.8260e-02, -5.8698e-02, -4.4766e-02, -2.8880e-02,\n",
       "          -6.1347e-01, -6.1364e-01, -6.1352e-01, -4.9217e-01, -4.9267e-01,\n",
       "          -7.0467e-01, -7.0452e-01, -4.7654e-01, -7.0482e-01, -8.0171e-01],\n",
       "         [ 1.7228e-02,  1.8260e-02, -5.8698e-02, -4.4766e-02, -2.8880e-02,\n",
       "          -6.1347e-01, -6.1364e-01, -6.1352e-01, -4.9217e-01, -4.9267e-01,\n",
       "          -7.0467e-01, -7.0452e-01, -4.7654e-01, -7.0482e-01, -6.8171e-01],\n",
       "         [ 1.7228e-02,  1.8260e-02, -5.8698e-02, -4.4766e-02, -2.8880e-02,\n",
       "          -6.1347e-01, -6.1364e-01, -6.1352e-01, -4.9217e-01, -4.9267e-01,\n",
       "          -7.0467e-01, -7.0452e-01, -6.8977e-01, -7.0482e-01, -7.4823e-01],\n",
       "         [ 1.7228e-02,  1.8260e-02, -5.8698e-02, -4.4766e-02, -2.8880e-02,\n",
       "          -6.1347e-01, -6.1364e-01, -6.1352e-01, -4.9217e-01, -4.9267e-01,\n",
       "          -7.0467e-01, -7.0452e-01, -4.7654e-01, -7.0482e-01, -6.5812e-01],\n",
       "         [ 1.7228e-02,  1.8260e-02, -5.8698e-02, -4.4766e-02, -2.8880e-02,\n",
       "          -6.1347e-01, -6.1364e-01, -6.1352e-01, -4.9217e-01, -4.9267e-01,\n",
       "          -7.0467e-01, -7.0452e-01, -4.7654e-01, -7.0482e-01, -7.4590e-01],\n",
       "         [ 1.7228e-02,  1.8260e-02, -5.8698e-02, -4.4766e-02, -2.8880e-02,\n",
       "          -6.1347e-01, -6.1364e-01, -6.1352e-01, -4.9217e-01, -4.9267e-01,\n",
       "          -7.0467e-01, -7.0452e-01, -4.7654e-01, -7.0482e-01, -6.8171e-01],\n",
       "         [ 1.7228e-02,  1.8260e-02, -5.8698e-02, -4.4766e-02, -2.8880e-02,\n",
       "          -6.1347e-01, -6.1364e-01, -6.1352e-01, -4.9217e-01, -4.9267e-01,\n",
       "          -7.0467e-01, -7.0452e-01, -9.0301e-01, -7.0482e-01,  7.0991e-02],\n",
       "         [ 1.7228e-02,  1.8260e-02, -5.8698e-02, -4.4766e-02, -2.8880e-02,\n",
       "          -6.1347e-01, -6.1364e-01, -6.1352e-01, -2.7301e-01, -2.7361e-01,\n",
       "          -7.0467e-01, -7.0452e-01, -2.6331e-01, -3.8565e-01, -8.1873e-01],\n",
       "         [ 1.7228e-02,  1.8260e-02, -5.8698e-02, -4.4766e-02, -2.8880e-02,\n",
       "          -2.7900e-01, -2.7917e-01, -2.7905e-01, -2.7301e-01, -2.7361e-01,\n",
       "          -3.1352e-01, -3.1337e-01, -2.6331e-01, -3.7146e-01, -3.7506e-01],\n",
       "         [ 1.7228e-02,  1.8260e-02, -5.8698e-02, -4.4766e-02, -2.8880e-02,\n",
       "          -6.1347e-01, -6.1364e-01, -6.1352e-01, -4.9217e-01, -4.9267e-01,\n",
       "          -7.0467e-01, -7.0452e-01, -4.7654e-01, -7.0482e-01, -7.8393e-01],\n",
       "         [ 1.7228e-02,  1.8260e-02, -5.8698e-02, -4.4766e-02, -2.8880e-02,\n",
       "           1.0589e+00,  1.0587e+00,  1.0588e+00,  6.0366e-01,  6.0264e-01,\n",
       "           1.1288e+00,  1.1290e+00,  5.8962e-01,  8.5781e-01,  1.0816e+00],\n",
       "         [ 1.7228e-02,  1.8260e-02, -5.8698e-02, -4.4766e-02, -2.8880e-02,\n",
       "          -6.1347e-01, -6.1364e-01, -6.1352e-01, -4.9217e-01, -4.9267e-01,\n",
       "          -7.0467e-01, -7.0452e-01, -4.7654e-01, -7.0482e-01, -7.4590e-01],\n",
       "         [ 1.7228e-02,  1.8260e-02, -5.8698e-02, -4.4766e-02, -2.8880e-02,\n",
       "           7.2440e-01,  7.2424e-01,  7.2434e-01,  3.8449e-01,  3.8358e-01,\n",
       "           9.3269e-01,  9.3285e-01,  3.7639e-01,  6.9064e-01,  9.6568e-01],\n",
       "         [ 1.7228e-02,  1.8260e-02, -5.8698e-02, -4.4766e-02, -2.8880e-02,\n",
       "          -2.7900e-01, -2.7917e-01, -2.7905e-01, -2.7301e-01, -2.7361e-01,\n",
       "          -2.8558e-01, -2.8543e-01, -2.6331e-01, -3.4765e-01, -2.8744e-01],\n",
       "         [ 1.7228e-02,  1.8260e-02, -5.8698e-02, -4.4766e-02, -2.8880e-02,\n",
       "           5.5466e-02,  5.5299e-02,  5.5410e-02, -5.3842e-02, -5.4547e-02,\n",
       "           9.5407e-02,  9.5561e-02, -5.0074e-02, -2.2947e-02,  7.0991e-02],\n",
       "         [ 1.7228e-02,  1.8260e-02, -5.8698e-02, -4.4766e-02, -2.8880e-02,\n",
       "          -6.1347e-01, -6.1364e-01, -6.1352e-01, -4.9217e-01, -4.9267e-01,\n",
       "          -7.0467e-01, -7.0452e-01, -4.7654e-01, -5.7731e-01, -7.7246e-01],\n",
       "         [ 1.7228e-02,  1.8260e-02, -5.8698e-02, -4.4766e-02, -2.8880e-02,\n",
       "           5.5466e-02,  5.5299e-02,  5.5410e-02, -5.3842e-02, -5.4547e-02,\n",
       "           1.1019e-03,  1.2551e-03, -5.0074e-02, -1.0332e-01, -1.5746e-01],\n",
       "         [ 1.7228e-02,  1.8260e-02, -5.8698e-02, -4.4766e-02, -2.8880e-02,\n",
       "           5.5466e-02,  5.5299e-02,  5.5410e-02, -5.3842e-02, -5.4547e-02,\n",
       "           1.3351e-01,  1.3366e-01, -5.0074e-02,  9.5231e-03,  1.5064e-01],\n",
       "         [ 1.7228e-02,  1.8260e-02, -5.8698e-02, -4.4766e-02, -2.8880e-02,\n",
       "          -6.1347e-01, -6.1364e-01, -6.1352e-01, -4.9217e-01, -4.9267e-01,\n",
       "          -7.0467e-01, -7.0452e-01, -4.7654e-01, -7.0482e-01, -7.2552e-01],\n",
       "         [ 1.7228e-02,  1.8260e-02, -5.8698e-02, -4.4766e-02, -2.8880e-02,\n",
       "          -6.1347e-01, -6.1364e-01, -6.1352e-01, -4.9217e-01, -4.9267e-01,\n",
       "          -7.0467e-01, -7.0452e-01, -4.7654e-01, -7.0482e-01, -7.0415e-01],\n",
       "         [ 1.7228e-02,  1.8260e-02, -5.8698e-02, -4.4766e-02, -2.8880e-02,\n",
       "           2.3967e+00,  2.3966e+00,  2.3967e+00,  1.6995e+00,  1.6980e+00,\n",
       "           2.5373e+00,  2.5375e+00,  1.6558e+00,  2.3567e+00,  2.5194e+00],\n",
       "         [ 1.7228e-02,  1.8260e-02, -5.8698e-02, -4.4766e-02, -2.8880e-02,\n",
       "           3.8993e-01,  3.8977e-01,  3.8987e-01,  1.6532e-01,  1.6452e-01,\n",
       "           5.8326e-01,  5.8341e-01,  1.6316e-01,  3.9283e-01,  6.4215e-01],\n",
       "         [ 1.7228e-02,  1.8260e-02, -5.8698e-02, -4.4766e-02, -2.8880e-02,\n",
       "          -6.1347e-01, -6.1364e-01, -6.1352e-01, -4.9217e-01, -4.9267e-01,\n",
       "          -7.0467e-01, -7.0452e-01, -4.7654e-01, -7.0482e-01, -7.4590e-01],\n",
       "         [ 1.7228e-02,  1.8260e-02, -5.8698e-02, -4.4766e-02, -2.8880e-02,\n",
       "          -6.1347e-01, -6.1364e-01, -6.1352e-01, -4.9217e-01, -4.9267e-01,\n",
       "          -7.0467e-01, -7.0452e-01, -4.7654e-01, -7.0482e-01, -7.4590e-01],\n",
       "         [ 1.7228e-02,  1.8260e-02, -5.8698e-02, -4.4766e-02, -2.8880e-02,\n",
       "          -6.1347e-01, -6.1364e-01, -6.1352e-01, -4.9217e-01, -4.9267e-01,\n",
       "          -7.0467e-01, -7.0452e-01, -4.7654e-01, -7.0482e-01, -6.8171e-01],\n",
       "         [ 1.7228e-02,  1.8260e-02, -5.8698e-02, -4.4766e-02, -2.8880e-02,\n",
       "          -6.1347e-01, -6.1364e-01, -6.1352e-01, -4.9217e-01, -4.9267e-01,\n",
       "          -7.0467e-01, -7.0452e-01, -4.7654e-01, -7.0482e-01, -7.2552e-01],\n",
       "         [ 1.7228e-02,  1.8260e-02, -5.8698e-02, -4.4766e-02, -2.8880e-02,\n",
       "          -6.1347e-01, -6.1364e-01, -6.1352e-01, -4.9217e-01, -4.9267e-01,\n",
       "          -4.4763e-01, -4.4748e-01, -4.7654e-01, -4.8576e-01, -4.4857e-01],\n",
       "         [ 1.7228e-02,  1.8260e-02, -5.8698e-02, -4.4766e-02, -2.8880e-02,\n",
       "           3.8993e-01,  3.8977e-01,  3.8987e-01,  3.8449e-01,  3.8358e-01,\n",
       "           4.9544e-01,  4.9560e-01,  3.7639e-01,  6.5893e-01,  4.8916e-01],\n",
       "         [ 1.7228e-02,  1.8260e-02,  2.2419e+01,  2.2338e+01, -2.8880e-02,\n",
       "          -2.7900e-01, -2.7917e-01, -2.7905e-01, -4.9217e-01, -2.7361e-01,\n",
       "          -2.4147e-01, -2.4132e-01, -2.6331e-01, -7.0482e-01, -1.4910e-01],\n",
       "         [ 1.7228e-02,  1.8260e-02, -5.8698e-02, -4.4766e-02, -2.8880e-02,\n",
       "           3.8993e-01,  3.8977e-01,  3.8987e-01,  1.6532e-01,  1.6452e-01,\n",
       "           2.9165e-01,  2.9181e-01,  1.6316e-01,  1.4430e-01,  1.3411e-01],\n",
       "         [ 1.7228e-02,  1.8260e-02, -5.8698e-02, -4.4766e-02, -2.8880e-02,\n",
       "          -6.1347e-01, -6.1364e-01, -6.1352e-01, -2.7301e-01, -2.7361e-01,\n",
       "          -7.0467e-01, -7.0452e-01, -2.6331e-01, -3.6388e-01, -7.6535e-01],\n",
       "         [ 1.7228e-02,  1.8260e-02, -5.8698e-02, -4.4766e-02, -2.8880e-02,\n",
       "          -6.1347e-01, -6.1364e-01, -6.1352e-01, -4.9217e-01, -4.9267e-01,\n",
       "          -7.0467e-01, -7.0452e-01, -4.7654e-01, -7.0482e-01, -7.0415e-01],\n",
       "         [ 1.7228e-02,  1.8260e-02, -5.8698e-02, -4.4766e-02, -2.8880e-02,\n",
       "           1.0589e+00,  1.0587e+00,  1.0588e+00,  8.2282e-01,  8.2170e-01,\n",
       "           1.2086e+00,  1.2087e+00,  8.0286e-01,  1.2519e+00,  1.1982e+00],\n",
       "         [ 1.7228e-02,  1.8260e-02, -5.8698e-02, -4.4766e-02, -2.8880e-02,\n",
       "          -2.7900e-01, -2.7917e-01, -2.7905e-01, -2.7301e-01, -2.7361e-01,\n",
       "          -2.9533e-01, -2.9518e-01, -2.6331e-01, -3.5595e-01, -3.1800e-01],\n",
       "         [ 1.7228e-02,  1.8260e-02, -5.8698e-02, -4.4766e-02, -2.8880e-02,\n",
       "          -6.1347e-01, -6.1364e-01, -6.1352e-01, -4.9217e-01, -4.9267e-01,\n",
       "          -3.5348e-01, -3.5333e-01, -4.7654e-01, -4.0552e-01, -4.6725e-01],\n",
       "         [ 1.7228e-02,  1.8260e-02, -5.8698e-02, -4.4766e-02, -2.8880e-02,\n",
       "           1.0589e+00,  1.0587e+00,  1.0588e+00,  6.0366e-01,  6.0264e-01,\n",
       "           1.2955e+00,  1.2957e+00,  5.8962e-01,  9.9986e-01,  1.3255e+00],\n",
       "         [ 1.7228e-02,  1.8260e-02, -5.8698e-02, -4.4766e-02, -2.8880e-02,\n",
       "          -2.7900e-01, -2.7917e-01, -2.7905e-01, -2.7301e-01, -2.7361e-01,\n",
       "          -2.9533e-01, -2.9518e-01, -2.6331e-01, -3.5595e-01, -3.1800e-01],\n",
       "         [ 1.7228e-02,  1.8260e-02, -5.8698e-02, -4.4766e-02, -2.8880e-02,\n",
       "          -6.1347e-01, -6.1364e-01, -6.1352e-01, -2.7301e-01, -2.7361e-01,\n",
       "          -4.1062e-01, -4.1047e-01, -4.7654e-01, -3.7068e-01, -4.1677e-01],\n",
       "         [ 1.7228e-02,  1.8260e-02, -5.8698e-02, -4.4766e-02, -2.8880e-02,\n",
       "          -6.1347e-01, -6.1364e-01, -6.1352e-01, -4.9217e-01, -4.9267e-01,\n",
       "          -7.0467e-01, -7.0452e-01, -4.7654e-01, -7.0482e-01, -7.4590e-01],\n",
       "         [ 1.7228e-02,  1.8260e-02, -5.8698e-02, -4.4766e-02, -2.8880e-02,\n",
       "          -6.1347e-01, -6.1364e-01, -6.1352e-01, -2.7301e-01, -2.7361e-01,\n",
       "          -7.0467e-01, -7.0452e-01, -2.6331e-01, -3.8565e-01, -8.1873e-01],\n",
       "         [ 1.7228e-02,  1.8260e-02, -5.8698e-02, -4.4766e-02, -2.8880e-02,\n",
       "           1.3933e+00,  1.3932e+00,  1.3933e+00,  8.2282e-01,  8.2170e-01,\n",
       "           1.7514e+00,  1.7515e+00,  8.0286e-01,  1.3884e+00,  1.8215e+00],\n",
       "         [ 1.7228e-02,  1.8260e-02, -5.8698e-02, -4.4766e-02, -2.8880e-02,\n",
       "          -2.7900e-01, -2.7917e-01, -2.7905e-01, -2.7301e-01, -2.7361e-01,\n",
       "          -2.7536e-01, -2.7521e-01, -2.6331e-01, -3.3894e-01, -2.5538e-01],\n",
       "         [ 1.7228e-02,  1.8260e-02, -5.8698e-02, -4.4766e-02, -2.8880e-02,\n",
       "          -6.1347e-01, -6.1364e-01, -6.1352e-01, -4.9217e-01, -4.9267e-01,\n",
       "          -7.0467e-01, -7.0452e-01, -4.7654e-01, -7.0482e-01, -7.2552e-01],\n",
       "         [ 1.7228e-02,  1.8260e-02, -5.8698e-02, -4.4766e-02, -2.8880e-02,\n",
       "           1.7278e+00,  1.7276e+00,  1.7277e+00,  1.2612e+00,  1.2598e+00,\n",
       "           1.8099e+00,  1.8100e+00,  1.2293e+00,  1.7444e+00,  1.7778e+00],\n",
       "         [ 1.7228e-02,  1.8260e-02, -5.8698e-02, -4.4766e-02, -2.8880e-02,\n",
       "           5.5466e-02,  5.5299e-02,  5.5410e-02, -5.3842e-02, -5.4547e-02,\n",
       "           9.5407e-02,  9.5561e-02, -5.0074e-02, -2.2947e-02,  7.0991e-02],\n",
       "         [ 1.7228e-02,  1.8260e-02, -5.8698e-02, -4.4766e-02, -2.8880e-02,\n",
       "          -6.1347e-01, -6.1364e-01, -6.1352e-01, -4.9217e-01, -4.9267e-01,\n",
       "          -7.0467e-01, -7.0452e-01, -6.8977e-01, -7.0482e-01, -7.4590e-01],\n",
       "         [ 1.7228e-02,  1.8260e-02, -5.8698e-02, -4.4766e-02, -2.8880e-02,\n",
       "          -2.7900e-01, -2.7917e-01, -2.7905e-01, -2.7301e-01, -2.7361e-01,\n",
       "          -2.7749e-01, -2.7734e-01, -4.7654e-01, -2.6642e-01, -2.6205e-01],\n",
       "         [ 1.7228e-02,  1.8260e-02, -5.8698e-02, -4.4766e-02, -2.8880e-02,\n",
       "          -6.1347e-01, -6.1364e-01, -6.1352e-01, -4.9217e-01, -4.9267e-01,\n",
       "          -3.9808e-01, -3.9793e-01, -4.7654e-01, -4.4353e-01, -3.7725e-01],\n",
       "         [ 1.7228e-02,  1.8260e-02, -5.8698e-02, -4.4766e-02, -2.8880e-02,\n",
       "           1.7278e+00,  1.7276e+00,  1.7277e+00,  1.4803e+00,  1.4789e+00,\n",
       "           2.0119e+00,  2.0120e+00,  1.4426e+00,  2.0194e+00,  1.9725e+00],\n",
       "         [ 1.7228e-02,  1.8260e-02, -5.8698e-02, -4.4766e-02, -2.8880e-02,\n",
       "          -6.1347e-01, -6.1364e-01, -6.1352e-01, -4.9217e-01, -4.9267e-01,\n",
       "          -7.0467e-01, -7.0452e-01, -4.7654e-01, -7.0482e-01, -7.6535e-01],\n",
       "         [ 1.7228e-02,  1.8260e-02, -5.8698e-02, -4.4766e-02, -2.8880e-02,\n",
       "           1.7278e+00,  1.7276e+00,  1.7277e+00,  1.0420e+00,  1.0408e+00,\n",
       "           2.0334e+00,  2.0335e+00,  1.0161e+00,  1.6287e+00,  2.0782e+00],\n",
       "         [ 1.7228e-02,  1.8260e-02, -5.8698e-02, -4.4766e-02, -2.8880e-02,\n",
       "          -6.1347e-01, -6.1364e-01, -6.1352e-01, -2.7301e-01, -2.7361e-01,\n",
       "          -7.0467e-01, -7.0452e-01, -2.6331e-01, -3.4765e-01, -7.2552e-01],\n",
       "         [ 1.7228e-02,  1.8260e-02, -5.8698e-02, -4.4766e-02, -2.8880e-02,\n",
       "          -6.1347e-01, -6.1364e-01, -6.1352e-01, -4.9217e-01, -4.9267e-01,\n",
       "          -7.0467e-01, -7.0452e-01, -4.7654e-01, -7.0482e-01, -6.8171e-01],\n",
       "         [ 1.7228e-02,  1.8260e-02, -5.8698e-02, -4.4766e-02, -2.8880e-02,\n",
       "           1.0589e+00,  1.0587e+00,  1.0588e+00,  6.0366e-01,  6.0264e-01,\n",
       "           1.3908e+00,  1.3909e+00,  5.8962e-01,  1.0810e+00,  1.4649e+00]]),\n",
       " tensor([0., 0., 0., 0., 0., 1., 0., 0., 0., 0., 1., 0., 0., 0., 0., 1., 1., 1.,\n",
       "         0., 1., 1., 0., 1., 1., 1., 0., 0., 0., 1., 0., 0., 1., 0., 0., 0., 1.,\n",
       "         0., 1., 1., 0., 1., 1., 1., 1., 0., 1., 0., 0., 0., 1., 1., 1., 0., 1.,\n",
       "         0., 0., 0., 0., 0., 0., 1., 1., 0., 1.])]"
      ]
     },
     "execution_count": 17,
     "metadata": {},
     "output_type": "execute_result"
    }
   ],
   "source": [
    "next(iter(train_loader))"
   ]
  },
  {
   "cell_type": "markdown",
   "metadata": {},
   "source": [
    "<h4>Базовый класс модели<h4>"
   ]
  },
  {
   "cell_type": "code",
   "execution_count": 18,
   "metadata": {},
   "outputs": [],
   "source": [
    "class MLPModel(nn.Module):\n",
    "    def __init__(self, input_dim, hidden_dim=64):\n",
    "        super(MLPModel, self).__init__()\n",
    "        self.fc1 = nn.Linear(input_dim, hidden_dim)\n",
    "        self.fc2 = nn.Linear(hidden_dim, 1)\n",
    "        self.relu = nn.ReLU()\n",
    "        self.sigmoid = nn.Sigmoid()\n",
    "\n",
    "    def forward(self, x):\n",
    "        x = self.fc1(x)\n",
    "        x = self.relu(x)\n",
    "        x = self.fc2(x)\n",
    "        x = self.sigmoid(x)\n",
    "        return x"
   ]
  },
  {
   "cell_type": "markdown",
   "metadata": {},
   "source": [
    "Инициализация"
   ]
  },
  {
   "cell_type": "code",
   "execution_count": 19,
   "metadata": {},
   "outputs": [],
   "source": [
    "device = torch.device(\"cuda\" if torch.cuda.is_available() else \"cpu\")\n",
    "model = MLPModel(input_dim=X_train_scaled.shape[1]).to(device)\n",
    "criterion = nn.BCELoss()\n",
    "optimizer = optim.Adam(model.parameters(), lr=0.001)"
   ]
  },
  {
   "cell_type": "markdown",
   "metadata": {},
   "source": [
    "Описание модели"
   ]
  },
  {
   "cell_type": "code",
   "execution_count": 20,
   "metadata": {},
   "outputs": [
    {
     "name": "stdout",
     "output_type": "stream",
     "text": [
      "MLPModel(\n",
      "  (fc1): Linear(in_features=15, out_features=64, bias=True)\n",
      "  (fc2): Linear(in_features=64, out_features=1, bias=True)\n",
      "  (relu): ReLU()\n",
      "  (sigmoid): Sigmoid()\n",
      ")\n"
     ]
    }
   ],
   "source": [
    "print(model)"
   ]
  },
  {
   "cell_type": "markdown",
   "metadata": {},
   "source": [
    "<h4>Циклы обучения и валидации<h4>"
   ]
  },
  {
   "cell_type": "code",
   "execution_count": 21,
   "metadata": {},
   "outputs": [],
   "source": [
    "def train_model(model, train_loader, val_loader, criterion, optimizer, epochs=EPOCHS):\n",
    "    train_losses, val_losses = [], []\n",
    "    best_val_loss = float('inf')\n",
    "    best_model_state = None\n",
    "    \n",
    "    for epoch in range(epochs):\n",
    "        model.train()\n",
    "        running_train_loss = 0.0\n",
    "        \n",
    "       \n",
    "        for inputs, labels in train_loader:\n",
    "            inputs, labels = inputs.to(device), labels.to(device)\n",
    "            optimizer.zero_grad()\n",
    "            outputs = model(inputs).squeeze(1)\n",
    "            loss = criterion(outputs, labels)\n",
    "            loss.backward()\n",
    "            optimizer.step()\n",
    "            running_train_loss += loss.item()\n",
    "        \n",
    "        avg_train_loss = running_train_loss / len(train_loader)\n",
    "        train_losses.append(avg_train_loss)\n",
    "        \n",
    "        \n",
    "        model.eval()\n",
    "        running_val_loss = 0.0\n",
    "        \n",
    "        with torch.no_grad():\n",
    "            for inputs, labels in val_loader:\n",
    "                inputs, labels = inputs.to(device), labels.to(device)\n",
    "                outputs = model(inputs).squeeze(1)\n",
    "                loss = criterion(outputs, labels)\n",
    "                running_val_loss += loss.item()\n",
    "        \n",
    "        avg_val_loss = running_val_loss / len(val_loader)\n",
    "        val_losses.append(avg_val_loss)\n",
    "        \n",
    "        \n",
    "        if avg_val_loss < best_val_loss:\n",
    "            best_val_loss = avg_val_loss\n",
    "            best_model_state = model.state_dict()\n",
    "        \n",
    "        print(f\"Epoch [{epoch+1}/{epochs}], Train Loss: {avg_train_loss:.4f}, Val Loss: {avg_val_loss:.4f}\")\n",
    "    \n",
    "    model.load_state_dict(best_model_state)\n",
    "    return model, train_losses, val_losses"
   ]
  },
  {
   "cell_type": "markdown",
   "metadata": {},
   "source": [
    "<h4>Обучение модели<h4>"
   ]
  },
  {
   "cell_type": "code",
   "execution_count": 22,
   "metadata": {},
   "outputs": [
    {
     "name": "stdout",
     "output_type": "stream",
     "text": [
      "Epoch [1/20], Train Loss: 0.6898, Val Loss: 0.6771\n",
      "Epoch [2/20], Train Loss: 0.6709, Val Loss: 0.6642\n",
      "Epoch [3/20], Train Loss: 0.6576, Val Loss: 0.6533\n",
      "Epoch [4/20], Train Loss: 0.6475, Val Loss: 0.6440\n",
      "Epoch [5/20], Train Loss: 0.6398, Val Loss: 0.6387\n",
      "Epoch [6/20], Train Loss: 0.6333, Val Loss: 0.6330\n",
      "Epoch [7/20], Train Loss: 0.6281, Val Loss: 0.6258\n",
      "Epoch [8/20], Train Loss: 0.6211, Val Loss: 0.6184\n",
      "Epoch [9/20], Train Loss: 0.6146, Val Loss: 0.6142\n",
      "Epoch [10/20], Train Loss: 0.6072, Val Loss: 0.6036\n",
      "Epoch [11/20], Train Loss: 0.6004, Val Loss: 0.5981\n",
      "Epoch [12/20], Train Loss: 0.5936, Val Loss: 0.5899\n",
      "Epoch [13/20], Train Loss: 0.5879, Val Loss: 0.5833\n",
      "Epoch [14/20], Train Loss: 0.5798, Val Loss: 0.5765\n",
      "Epoch [15/20], Train Loss: 0.5750, Val Loss: 0.5786\n",
      "Epoch [16/20], Train Loss: 0.5688, Val Loss: 0.5640\n",
      "Epoch [17/20], Train Loss: 0.5625, Val Loss: 0.5593\n",
      "Epoch [18/20], Train Loss: 0.5586, Val Loss: 0.5539\n",
      "Epoch [19/20], Train Loss: 0.5535, Val Loss: 0.5485\n",
      "Epoch [20/20], Train Loss: 0.5480, Val Loss: 0.5432\n"
     ]
    }
   ],
   "source": [
    "model, train_losses, val_losses = train_model(model, train_loader, val_loader, criterion, optimizer, epochs=EPOCHS)"
   ]
  },
  {
   "cell_type": "markdown",
   "metadata": {},
   "source": [
    "<h4>Визуализация обучения и валидации<h4>"
   ]
  },
  {
   "cell_type": "code",
   "execution_count": 23,
   "metadata": {},
   "outputs": [
    {
     "data": {
      "image/png": "[encoded data removed]",
      "text/plain": [
       "<Figure size 640x480 with 1 Axes>"
      ]
     },
     "metadata": {},
     "output_type": "display_data"
    }
   ],
   "source": [
    "plt.plot(train_losses, label='Train Loss')\n",
    "plt.plot(val_losses, label='Validation Loss')\n",
    "plt.xlabel('Период')\n",
    "plt.ylabel('Потеря')\n",
    "plt.legend()\n",
    "plt.title('Потеря обучения и валидации')\n",
    "plt.show()"
   ]
  },
  {
   "cell_type": "markdown",
   "metadata": {},
   "source": [
    "<h4>Вывод<h4>"
   ]
  },
  {
   "cell_type": "markdown",
   "metadata": {},
   "source": [
    "Модель демонстрирует хорошую сходимость и стабильное обучение.\n",
    "Отсутствие явного разрыва между обучающими и валидационными потерями показывает то, что модель не переобучается.\n",
    "\n",
    "На данном этапе обучение можно считать успешным, но если метрики на тестовой выборке недостаточны. Можно сделать:\n",
    "\n",
    "- Увеличить количество эпох, чтобы достичь более низких значений функции потерь.\n",
    "- Экспериментировать с архитектурой модели (например, изменять количество слоёв или параметр dropout).\n",
    "- Регулировать скорость обучения для ускорения сходимости."
   ]
  },
  {
   "cell_type": "markdown",
   "metadata": {},
   "source": [
    "<h4>Оценка модели на тестовой выборки<h4>"
   ]
  },
  {
   "cell_type": "code",
   "execution_count": 24,
   "metadata": {},
   "outputs": [],
   "source": [
    "def evaluate_model(model, test_loader):\n",
    "    model.eval()\n",
    "    all_labels = []\n",
    "    all_preds = []\n",
    "    \n",
    "    with torch.no_grad():\n",
    "        for inputs, labels in test_loader:\n",
    "            inputs, labels = inputs.to(device), labels.to(device)\n",
    "            outputs = model(inputs).squeeze(1)\n",
    "            preds = (outputs > 0.5).float()\n",
    "            all_labels.extend(labels.cpu().numpy())\n",
    "            all_preds.extend(preds.cpu().numpy())\n",
    "    \n",
    "    return classification_report(all_labels, all_preds)\n"
   ]
  },
  {
   "cell_type": "code",
   "execution_count": 25,
   "metadata": {},
   "outputs": [
    {
     "name": "stdout",
     "output_type": "stream",
     "text": [
      "              precision    recall  f1-score   support\n",
      "\n",
      "         0.0       0.72      0.79      0.75       981\n",
      "         1.0       0.78      0.71      0.74      1019\n",
      "\n",
      "    accuracy                           0.75      2000\n",
      "   macro avg       0.75      0.75      0.75      2000\n",
      "weighted avg       0.75      0.75      0.75      2000\n",
      "\n"
     ]
    }
   ],
   "source": [
    "classification_report_str = evaluate_model(model, test_loader)\n",
    "print(classification_report_str)"
   ]
  },
  {
   "cell_type": "markdown",
   "metadata": {},
   "source": [
    "<h4>Улучшение модели (BatchNorm и Dropout)<h4>"
   ]
  },
  {
   "cell_type": "code",
   "execution_count": 26,
   "metadata": {},
   "outputs": [],
   "source": [
    "class ImprovedMLPModel(nn.Module):\n",
    "    def __init__(self, input_dim, hidden_dim=64, dropout_prob=0.3):\n",
    "        super(ImprovedMLPModel, self).__init__()\n",
    "        self.fc1 = nn.Linear(input_dim, hidden_dim)\n",
    "        self.bn1 = nn.BatchNorm1d(hidden_dim)\n",
    "        self.fc2 = nn.Linear(hidden_dim, hidden_dim)\n",
    "        self.bn2 = nn.BatchNorm1d(hidden_dim)\n",
    "        self.fc3 = nn.Linear(hidden_dim, 1)\n",
    "        self.relu = nn.ReLU()\n",
    "        self.sigmoid = nn.Sigmoid()\n",
    "        self.dropout = nn.Dropout(p=dropout_prob)\n",
    "\n",
    "    def forward(self, x):\n",
    "        x = self.fc1(x)\n",
    "        x = self.relu(x)\n",
    "        x = self.bn1(x)\n",
    "        x = self.dropout(x)\n",
    "        \n",
    "        x = self.fc2(x)\n",
    "        x = self.relu(x)\n",
    "        x = self.bn2(x)\n",
    "        x = self.dropout(x)\n",
    "        \n",
    "        x = self.fc3(x)\n",
    "        x = self.sigmoid(x)\n",
    "        return x"
   ]
  },
  {
   "cell_type": "markdown",
   "metadata": {},
   "source": [
    "<h4>Эксперименты для Dropout<h4>"
   ]
  },
  {
   "cell_type": "code",
   "execution_count": 32,
   "metadata": {},
   "outputs": [
    {
     "name": "stdout",
     "output_type": "stream",
     "text": [
      "\n",
      "Модель обучения p=0.1\n",
      "Epoch [1/20], Train Loss: 0.5985, Val Loss: 0.5961\n",
      "Epoch [2/20], Train Loss: 0.5381, Val Loss: 0.5879\n",
      "Epoch [3/20], Train Loss: 0.5101, Val Loss: 0.5036\n",
      "Epoch [4/20], Train Loss: 0.4957, Val Loss: 0.5358\n",
      "Epoch [5/20], Train Loss: 0.4840, Val Loss: 0.5076\n",
      "Epoch [6/20], Train Loss: 0.4785, Val Loss: 0.4810\n",
      "Epoch [7/20], Train Loss: 0.4784, Val Loss: 0.5178\n",
      "Epoch [8/20], Train Loss: 0.4623, Val Loss: 0.5792\n",
      "Epoch [9/20], Train Loss: 0.4673, Val Loss: 0.4579\n",
      "Epoch [10/20], Train Loss: 0.4573, Val Loss: 0.4907\n",
      "Epoch [11/20], Train Loss: 0.4601, Val Loss: 0.4452\n",
      "Epoch [12/20], Train Loss: 0.4531, Val Loss: 0.4789\n",
      "Epoch [13/20], Train Loss: 0.4509, Val Loss: 0.4543\n",
      "Epoch [14/20], Train Loss: 0.4390, Val Loss: 0.4134\n",
      "Epoch [15/20], Train Loss: 0.4377, Val Loss: 0.4664\n",
      "Epoch [16/20], Train Loss: 0.4422, Val Loss: 0.4518\n",
      "Epoch [17/20], Train Loss: 0.4400, Val Loss: 0.4511\n",
      "Epoch [18/20], Train Loss: 0.4415, Val Loss: 0.4742\n",
      "Epoch [19/20], Train Loss: 0.4322, Val Loss: 0.4365\n",
      "Epoch [20/20], Train Loss: 0.4323, Val Loss: 0.4650\n",
      "\n",
      "Отчет p=0.1:\n",
      "              precision    recall  f1-score   support\n",
      "\n",
      "         0.0       0.69      0.89      0.78       981\n",
      "         1.0       0.85      0.62      0.71      1019\n",
      "\n",
      "    accuracy                           0.75      2000\n",
      "   macro avg       0.77      0.75      0.74      2000\n",
      "weighted avg       0.77      0.75      0.74      2000\n",
      "\n",
      "\n",
      "Модель обучения p=0.3\n",
      "Epoch [1/20], Train Loss: 0.6368, Val Loss: 0.6322\n",
      "Epoch [2/20], Train Loss: 0.5810, Val Loss: 0.6147\n",
      "Epoch [3/20], Train Loss: 0.5582, Val Loss: 0.5871\n",
      "Epoch [4/20], Train Loss: 0.5310, Val Loss: 0.5442\n",
      "Epoch [5/20], Train Loss: 0.5199, Val Loss: 0.5306\n",
      "Epoch [6/20], Train Loss: 0.5064, Val Loss: 0.5214\n",
      "Epoch [7/20], Train Loss: 0.5020, Val Loss: 0.5011\n",
      "Epoch [8/20], Train Loss: 0.4863, Val Loss: 0.5282\n",
      "Epoch [9/20], Train Loss: 0.4908, Val Loss: 0.5183\n",
      "Epoch [10/20], Train Loss: 0.4981, Val Loss: 0.5315\n",
      "Epoch [11/20], Train Loss: 0.4837, Val Loss: 0.5041\n",
      "Epoch [12/20], Train Loss: 0.4753, Val Loss: 0.4967\n",
      "Epoch [13/20], Train Loss: 0.4810, Val Loss: 0.4863\n",
      "Epoch [14/20], Train Loss: 0.4765, Val Loss: 0.4527\n",
      "Epoch [15/20], Train Loss: 0.4864, Val Loss: 0.4963\n",
      "Epoch [16/20], Train Loss: 0.4695, Val Loss: 0.4523\n",
      "Epoch [17/20], Train Loss: 0.4649, Val Loss: 0.4396\n",
      "Epoch [18/20], Train Loss: 0.4669, Val Loss: 0.4369\n",
      "Epoch [19/20], Train Loss: 0.4621, Val Loss: 0.4723\n",
      "Epoch [20/20], Train Loss: 0.4565, Val Loss: 0.4801\n",
      "\n",
      "Отчет p=0.3:\n",
      "              precision    recall  f1-score   support\n",
      "\n",
      "         0.0       0.69      0.92      0.79       981\n",
      "         1.0       0.89      0.61      0.72      1019\n",
      "\n",
      "    accuracy                           0.76      2000\n",
      "   macro avg       0.79      0.77      0.76      2000\n",
      "weighted avg       0.79      0.76      0.76      2000\n",
      "\n",
      "\n",
      "Модель обучения p=0.5\n",
      "Epoch [1/20], Train Loss: 0.6777, Val Loss: 0.6488\n",
      "Epoch [2/20], Train Loss: 0.6265, Val Loss: 0.6165\n",
      "Epoch [3/20], Train Loss: 0.6017, Val Loss: 0.6004\n",
      "Epoch [4/20], Train Loss: 0.5828, Val Loss: 0.5924\n",
      "Epoch [5/20], Train Loss: 0.5550, Val Loss: 0.5727\n",
      "Epoch [6/20], Train Loss: 0.5586, Val Loss: 0.5948\n",
      "Epoch [7/20], Train Loss: 0.5371, Val Loss: 0.5651\n",
      "Epoch [8/20], Train Loss: 0.5434, Val Loss: 0.5664\n",
      "Epoch [9/20], Train Loss: 0.5409, Val Loss: 0.5704\n",
      "Epoch [10/20], Train Loss: 0.5361, Val Loss: 0.5590\n",
      "Epoch [11/20], Train Loss: 0.5319, Val Loss: 0.5626\n",
      "Epoch [12/20], Train Loss: 0.5279, Val Loss: 0.5522\n",
      "Epoch [13/20], Train Loss: 0.5329, Val Loss: 0.5523\n",
      "Epoch [14/20], Train Loss: 0.5297, Val Loss: 0.5253\n",
      "Epoch [15/20], Train Loss: 0.5093, Val Loss: 0.5179\n",
      "Epoch [16/20], Train Loss: 0.5108, Val Loss: 0.5349\n",
      "Epoch [17/20], Train Loss: 0.5136, Val Loss: 0.5296\n",
      "Epoch [18/20], Train Loss: 0.5109, Val Loss: 0.5236\n",
      "Epoch [19/20], Train Loss: 0.5195, Val Loss: 0.5415\n",
      "Epoch [20/20], Train Loss: 0.5103, Val Loss: 0.5416\n",
      "\n",
      "Отчет p=0.5:\n",
      "              precision    recall  f1-score   support\n",
      "\n",
      "         0.0       0.72      0.87      0.79       981\n",
      "         1.0       0.85      0.67      0.75      1019\n",
      "\n",
      "    accuracy                           0.77      2000\n",
      "   macro avg       0.78      0.77      0.77      2000\n",
      "weighted avg       0.78      0.77      0.77      2000\n",
      "\n"
     ]
    },
    {
     "data": {
      "image/png": "[encoded data removed]",
      "text/plain": [
       "<Figure size 640x480 with 1 Axes>"
      ]
     },
     "metadata": {},
     "output_type": "display_data"
    },
    {
     "name": "stdout",
     "output_type": "stream",
     "text": [
      "Отчет:\n",
      "\n",
      "              precision    recall  f1-score   support\n",
      "\n",
      "         0.0       0.69      0.89      0.78       981\n",
      "         1.0       0.85      0.62      0.71      1019\n",
      "\n",
      "    accuracy                           0.75      2000\n",
      "   macro avg       0.77      0.75      0.74      2000\n",
      "weighted avg       0.77      0.75      0.74      2000\n",
      "\n"
     ]
    }
   ],
   "source": [
    "dropout_values = [0.1, 0.3, 0.5]\n",
    "best_model = None\n",
    "best_report = None\n",
    "best_val_loss = float('inf')\n",
    "\n",
    "\n",
    "for p in dropout_values:\n",
    "    print(f\"\\nМодель обучения p={p}\")\n",
    "    \n",
    "    model = ImprovedMLPModel(input_dim=X_train_scaled.shape[1], dropout_prob=p).to(device)\n",
    "    optimizer = optim.Adam(model.parameters(), lr=0.001)\n",
    "    \n",
    "    model, train_losses, val_losses = train_model(\n",
    "        model, train_loader, val_loader, criterion, optimizer, epochs=EPOCHS\n",
    "    )\n",
    "    \n",
    "    plt.plot(train_losses, label=f'Train Loss (p={p})')\n",
    "    plt.plot(val_losses, label=f'Validation Loss (p={p})')\n",
    "    \n",
    "    report = evaluate_model(model, test_loader)\n",
    "    print(f\"\\nОтчет p={p}:\\n{report}\")\n",
    "    \n",
    "    if min(val_losses) < best_val_loss:\n",
    "        best_val_loss = min(val_losses)\n",
    "        best_model = model\n",
    "        best_report = report\n",
    "\n",
    "                                                        #Графики и отчет\n",
    "plt.xlabel('Epoch')\n",
    "plt.ylabel('Loss')\n",
    "plt.legend()\n",
    "plt.title('Различные кривые потерь')\n",
    "plt.show()\n",
    "\n",
    "\n",
    "print(\"Отчет:\\n\")\n",
    "print(best_report)"
   ]
  },
  {
   "cell_type": "markdown",
   "metadata": {},
   "source": [
    "<h4>Вывод<h4>"
   ]
  },
  {
   "cell_type": "markdown",
   "metadata": {},
   "source": [
    "Наилучший баланс между обучением и обобщением наблюдается при p=0.1.\n",
    "\n",
    "Модель демонстрирует низкие значения потерь на обучающей и на валидационной выборках.\n",
    "\n",
    "При p=0.3 модель показывает приемлемую регуляризацию, что подходит для предотвращения переобучения, но требует больше эпох для обучения.\n",
    "\n",
    "При p=0.5 модель слишком сильно регуляризируется, что ухудшает её способность к обучению и обобщению."
   ]
  },
  {
   "cell_type": "markdown",
   "metadata": {},
   "source": [
    "После обучения модели на тренировочных и валидационных данных, измеряю её качество на тестовой выборке с помощью classification_report, который дает подробную информацию о точности, полноте, F1-мере и других метриках.\n",
    "\n",
    "Precision и Recall важны в задачах классификации вредоносного ПО, где важно минимизировать как ложные срабатывания, так и пропуски."
   ]
  }
 ],
 "metadata": {
  "kernelspec": {
   "display_name": "Python 3",
   "language": "python",
   "name": "python3"
  },
  "language_info": {
   "codemirror_mode": {
    "name": "ipython",
    "version": 3
   },
   "file_extension": ".py",
   "mimetype": "text/x-python",
   "name": "python",
   "nbconvert_exporter": "python",
   "pygments_lexer": "ipython3",
   "version": "3.9.6"
  }
 },
 "nbformat": 4,
 "nbformat_minor": 2
}

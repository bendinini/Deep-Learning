{
 "cells": [
  {
   "cell_type": "code",
   "execution_count": 164,
   "metadata": {},
   "outputs": [],
   "source": [
    "import pandas as pd\n",
    "import matplotlib.pyplot as plt\n",
    "from sklearn.metrics import classification_report\n",
    "from sklearn.model_selection import train_test_split\n",
    "from sklearn.preprocessing import StandardScaler\n",
    "import torch\n",
    "from torch.utils.data import Dataset, DataLoader\n",
    "import torch.nn as nn\n",
    "import torch.optim as optim\n"
   ]
  },
  {
   "cell_type": "markdown",
   "metadata": {},
   "source": [
    "<h4>Константы<h4>"
   ]
  },
  {
   "cell_type": "code",
   "execution_count": 165,
   "metadata": {},
   "outputs": [],
   "source": [
    "PATH = 'cybersequrity.csv'\n",
    "RANDOM_STATE = 42\n",
    "EPOCHS=20"
   ]
  },
  {
   "cell_type": "markdown",
   "metadata": {},
   "source": [
    "<h4>Просмотр данных<h4>"
   ]
  },
  {
   "cell_type": "code",
   "execution_count": 166,
   "metadata": {},
   "outputs": [
    {
     "name": "stdout",
     "output_type": "stream",
     "text": [
      "<class 'pandas.core.frame.DataFrame'>\n",
      "RangeIndex: 10000 entries, 0 to 9999\n",
      "Data columns (total 16 columns):\n",
      " #   Column                                  Non-Null Count  Dtype  \n",
      "---  ------                                  --------------  -----  \n",
      " 0   svcscan.fs_drivers                      10000 non-null  int64  \n",
      " 1   callbacks.ngeneric                      10000 non-null  int64  \n",
      " 2   psxview.not_in_eprocess_pool_false_avg  10000 non-null  float64\n",
      " 3   psxview.not_in_eprocess_pool            10000 non-null  int64  \n",
      " 4   callbacks.nanonymous                    10000 non-null  int64  \n",
      " 5   psxview.not_in_session                  10000 non-null  int64  \n",
      " 6   psxview.not_in_pslist                   10000 non-null  int64  \n",
      " 7   psxview.not_in_pspcid_list              10000 non-null  int64  \n",
      " 8   psxview.not_in_ethread_pool             10000 non-null  int64  \n",
      " 9   psxview.not_in_csrss_handles            10000 non-null  int64  \n",
      " 10  psxview.not_in_pslist_false_avg         10000 non-null  float64\n",
      " 11  psxview.not_in_pspcid_list_false_avg    10000 non-null  float64\n",
      " 12  psxview.not_in_deskthrd                 10000 non-null  int64  \n",
      " 13  psxview.not_in_ethread_pool_false_avg   10000 non-null  float64\n",
      " 14  psxview.not_in_session_false_avg        10000 non-null  float64\n",
      " 15  Class                                   10000 non-null  int64  \n",
      "dtypes: float64(5), int64(11)\n",
      "memory usage: 1.2 MB\n"
     ]
    },
    {
     "data": {
      "text/plain": [
       "(   svcscan.fs_drivers  callbacks.ngeneric  \\\n",
       " 0                  26                   8   \n",
       " 1                  26                   8   \n",
       " 2                  26                   8   \n",
       " 3                  26                   8   \n",
       " 4                  26                   8   \n",
       " \n",
       "    psxview.not_in_eprocess_pool_false_avg  psxview.not_in_eprocess_pool  \\\n",
       " 0                                     0.0                             0   \n",
       " 1                                     0.0                             0   \n",
       " 2                                     0.0                             0   \n",
       " 3                                     0.0                             0   \n",
       " 4                                     0.0                             0   \n",
       " \n",
       "    callbacks.nanonymous  psxview.not_in_session  psxview.not_in_pslist  \\\n",
       " 0                     0                       2                      0   \n",
       " 1                     0                       5                      3   \n",
       " 2                     0                       9                      7   \n",
       " 3                     0                       3                      1   \n",
       " 4                     0                       2                      0   \n",
       " \n",
       "    psxview.not_in_pspcid_list  psxview.not_in_ethread_pool  \\\n",
       " 0                           0                            0   \n",
       " 1                           3                            3   \n",
       " 2                           7                            7   \n",
       " 3                           1                            2   \n",
       " 4                           0                            0   \n",
       " \n",
       "    psxview.not_in_csrss_handles  psxview.not_in_pslist_false_avg  \\\n",
       " 0                             4                         0.000000   \n",
       " 1                             7                         0.073171   \n",
       " 2                            11                         0.152174   \n",
       " 3                             6                         0.022222   \n",
       " 4                             4                         0.000000   \n",
       " \n",
       "    psxview.not_in_pspcid_list_false_avg  psxview.not_in_deskthrd  \\\n",
       " 0                              0.000000                        6   \n",
       " 1                              0.073171                        9   \n",
       " 2                              0.152174                       13   \n",
       " 3                              0.022222                        9   \n",
       " 4                              0.000000                        6   \n",
       " \n",
       "    psxview.not_in_ethread_pool_false_avg  psxview.not_in_session_false_avg  \\\n",
       " 0                               0.000000                          0.044444   \n",
       " 1                               0.073171                          0.121951   \n",
       " 2                               0.152174                          0.195652   \n",
       " 3                               0.044444                          0.066667   \n",
       " 4                               0.000000                          0.048780   \n",
       " \n",
       "    Class  \n",
       " 0      1  \n",
       " 1      1  \n",
       " 2      1  \n",
       " 3      1  \n",
       " 4      0  ,\n",
       " None)"
      ]
     },
     "execution_count": 166,
     "metadata": {},
     "output_type": "execute_result"
    }
   ],
   "source": [
    "data = pd.read_csv(PATH)\n",
    "data.head(), data.info()"
   ]
  },
  {
   "cell_type": "code",
   "execution_count": 167,
   "metadata": {},
   "outputs": [],
   "source": [
    "X = data.drop(columns=['Class'])\n",
    "y = data['Class']"
   ]
  },
  {
   "cell_type": "markdown",
   "metadata": {},
   "source": [
    "<h4>Разделение датасета<h4>"
   ]
  },
  {
   "cell_type": "code",
   "execution_count": 168,
   "metadata": {},
   "outputs": [],
   "source": [
    "X_train, X_temp, y_train, y_temp = train_test_split(\n",
    "    X, y, test_size=0.4, stratify=y, random_state=RANDOM_STATE)\n",
    "X_val, X_test, y_val, y_test = train_test_split(\n",
    "    X_temp, y_temp, test_size=0.5, stratify=y_temp, random_state=42)"
   ]
  },
  {
   "cell_type": "markdown",
   "metadata": {},
   "source": [
    "Стандартизация функции с помощью StandardScaler"
   ]
  },
  {
   "cell_type": "code",
   "execution_count": 169,
   "metadata": {},
   "outputs": [],
   "source": [
    "scaler = StandardScaler()\n",
    "X_train_scaled = scaler.fit_transform(X_train)\n",
    "X_val_scaled = scaler.transform(X_val)\n",
    "X_test_scaled = scaler.transform(X_test)"
   ]
  },
  {
   "cell_type": "markdown",
   "metadata": {},
   "source": [
    "Проверка размеров"
   ]
  },
  {
   "cell_type": "code",
   "execution_count": 170,
   "metadata": {},
   "outputs": [
    {
     "data": {
      "text/plain": [
       "(6000, 2000, 2000)"
      ]
     },
     "execution_count": 170,
     "metadata": {},
     "output_type": "execute_result"
    }
   ],
   "source": [
    "len(X_train), len(X_val), len(X_test)"
   ]
  },
  {
   "cell_type": "markdown",
   "metadata": {},
   "source": [
    "Данные разделены:\n",
    "\n",
    "Обучающая выборка: 6000 \n",
    "\n",
    "Валидационная выборка: 2000 \n",
    "\n",
    "Тестовая выборка: 2000 "
   ]
  },
  {
   "cell_type": "code",
   "execution_count": 171,
   "metadata": {},
   "outputs": [],
   "source": [
    "class MalwareDataset(Dataset):\n",
    "    def __init__(self, features, labels):\n",
    "        self.features = torch.tensor(features, dtype=torch.float32)\n",
    "        self.labels = torch.tensor(labels.values, dtype=torch.float32)\n",
    "\n",
    "    def __len__(self):\n",
    "        return len(self.labels)\n",
    "\n",
    "    def __getitem__(self, idx):\n",
    "        return self.features[idx], self.labels[idx]"
   ]
  },
  {
   "cell_type": "markdown",
   "metadata": {},
   "source": [
    "<h4>Создание датасета<h4>"
   ]
  },
  {
   "cell_type": "code",
   "execution_count": 172,
   "metadata": {},
   "outputs": [],
   "source": [
    "train_dataset = MalwareDataset(X_train_scaled, y_train)\n",
    "val_dataset = MalwareDataset(X_val_scaled, y_val)\n",
    "test_dataset = MalwareDataset(X_test_scaled, y_test)"
   ]
  },
  {
   "cell_type": "code",
   "execution_count": 173,
   "metadata": {},
   "outputs": [],
   "source": [
    "batch_size = 64"
   ]
  },
  {
   "cell_type": "markdown",
   "metadata": {},
   "source": [
    "Это стандартный размер батча, который эффективно работает на большинстве задач. Он достаточен для стабильного обучения, при этом не слишком велик, чтобы не перегрузить память."
   ]
  },
  {
   "cell_type": "markdown",
   "metadata": {},
   "source": [
    "Создание Data Loaders"
   ]
  },
  {
   "cell_type": "code",
   "execution_count": 174,
   "metadata": {},
   "outputs": [],
   "source": [
    "train_loader = DataLoader(train_dataset, batch_size=batch_size, shuffle=True)\n",
    "val_loader = DataLoader(val_dataset, batch_size=batch_size, shuffle=False)\n",
    "test_loader = DataLoader(test_dataset, batch_size=batch_size, shuffle=False)"
   ]
  },
  {
   "cell_type": "markdown",
   "metadata": {},
   "source": [
    "Проверка одного пакета"
   ]
  },
  {
   "cell_type": "code",
   "execution_count": 175,
   "metadata": {},
   "outputs": [
    {
     "data": {
      "text/plain": [
       "[tensor([[ 1.7228e-02,  1.8260e-02, -5.8698e-02, -4.4766e-02, -2.8880e-02,\n",
       "          -2.7900e-01, -2.7917e-01, -2.7905e-01,  1.2439e+01,  1.2432e+01,\n",
       "          -5.3210e-01, -5.3195e-01,  1.2104e+01,  7.9724e+00, -1.0605e+00],\n",
       "         [ 1.7228e-02,  1.8260e-02, -5.8698e-02, -4.4766e-02, -2.8880e-02,\n",
       "          -6.1347e-01, -6.1364e-01, -6.1352e-01, -4.9217e-01, -4.9267e-01,\n",
       "          -7.0467e-01, -7.0452e-01, -4.7654e-01, -7.0482e-01, -7.6535e-01],\n",
       "         [ 1.7228e-02,  1.8260e-02, -5.8698e-02, -4.4766e-02, -2.8880e-02,\n",
       "          -2.7900e-01, -2.7917e-01, -2.7905e-01, -2.7301e-01, -2.7361e-01,\n",
       "          -2.9659e-01, -2.9644e-01, -2.6331e-01, -3.5703e-01, -3.2197e-01],\n",
       "         [ 1.7228e-02,  1.8260e-02, -5.8698e-02, -4.4766e-02, -2.8880e-02,\n",
       "           5.5466e-02,  5.5299e-02,  5.5410e-02, -5.3842e-02, -5.4547e-02,\n",
       "           1.5395e-01,  1.5410e-01, -5.0074e-02,  2.6946e-02,  1.9338e-01],\n",
       "         [ 1.7228e-02,  1.8260e-02, -5.8698e-02, -4.4766e-02, -2.8880e-02,\n",
       "           3.8993e-01,  3.8977e-01,  3.8987e-01,  3.8449e-01,  3.8358e-01,\n",
       "           4.9544e-01,  4.9560e-01,  3.7639e-01,  6.5893e-01,  4.8916e-01],\n",
       "         [ 1.7228e-02,  1.8260e-02, -5.8698e-02, -4.4766e-02, -2.8880e-02,\n",
       "          -6.1347e-01, -6.1364e-01, -6.1352e-01, -4.9217e-01, -4.9267e-01,\n",
       "          -7.0467e-01, -7.0452e-01, -4.7654e-01, -7.0482e-01, -7.0415e-01],\n",
       "         [ 1.7228e-02,  1.8260e-02, -5.8698e-02, -4.4766e-02, -2.8880e-02,\n",
       "           3.8993e-01,  3.8977e-01,  3.8987e-01,  1.6532e-01,  1.6452e-01,\n",
       "           2.9165e-01,  2.9181e-01,  1.6316e-01,  1.4430e-01,  1.3411e-01],\n",
       "         [ 1.7228e-02,  1.8260e-02, -5.8698e-02, -4.4766e-02, -2.8880e-02,\n",
       "          -6.1347e-01, -6.1364e-01, -6.1352e-01, -4.9217e-01, -4.9267e-01,\n",
       "          -7.0467e-01, -7.0452e-01, -6.8977e-01, -7.0482e-01, -4.8657e-01],\n",
       "         [ 1.7228e-02,  1.8260e-02, -5.8698e-02, -4.4766e-02, -2.8880e-02,\n",
       "          -2.7900e-01, -2.7917e-01, -2.7905e-01, -2.7301e-01, -2.7361e-01,\n",
       "          -2.7536e-01, -2.7521e-01, -2.6331e-01, -3.3894e-01, -2.5538e-01],\n",
       "         [ 1.7228e-02,  1.8260e-02, -5.8698e-02, -4.4766e-02, -2.8880e-02,\n",
       "           5.5466e-02,  5.5299e-02,  5.5410e-02, -5.3842e-02, -5.4547e-02,\n",
       "           9.5407e-02,  9.5561e-02, -5.0074e-02, -2.2947e-02,  7.0991e-02],\n",
       "         [ 1.7228e-02,  1.8260e-02, -5.8698e-02, -4.4766e-02, -2.8880e-02,\n",
       "           7.2440e-01,  7.2424e-01,  7.2434e-01,  3.8449e-01,  3.8358e-01,\n",
       "           9.3269e-01,  9.3285e-01,  3.7639e-01,  6.9064e-01,  9.6568e-01],\n",
       "         [ 1.7228e-02,  1.8260e-02, -5.8698e-02, -4.4766e-02, -2.8880e-02,\n",
       "          -6.1347e-01, -6.1364e-01, -6.1352e-01, -4.9217e-01, -4.9267e-01,\n",
       "          -7.0467e-01, -7.0452e-01, -4.7654e-01, -7.0482e-01, -7.0415e-01],\n",
       "         [ 1.7228e-02,  1.8260e-02, -5.8698e-02, -4.4766e-02, -2.8880e-02,\n",
       "          -6.1347e-01, -6.1364e-01, -6.1352e-01, -2.7301e-01, -2.7361e-01,\n",
       "          -6.3479e-01, -6.3464e-01, -2.6331e-01, -3.8565e-01, -7.4569e-01],\n",
       "         [ 1.7228e-02,  1.8260e-02, -5.8698e-02, -4.4766e-02, -2.8880e-02,\n",
       "          -6.1347e-01, -6.1364e-01, -6.1352e-01, -2.7301e-01, -2.7361e-01,\n",
       "          -7.0467e-01, -7.0452e-01, -2.6331e-01, -3.2849e-01, -7.8883e-01],\n",
       "         [ 1.7228e-02,  1.8260e-02, -5.8698e-02, -4.4766e-02, -2.8880e-02,\n",
       "           5.5466e-02,  5.5299e-02,  5.5410e-02,  1.6532e-01,  1.6452e-01,\n",
       "           1.0145e-01,  1.0161e-01,  1.6316e-01,  3.0640e-01, -6.4707e-02],\n",
       "         [ 1.7228e-02,  1.8260e-02, -5.8698e-02, -4.4766e-02, -2.8880e-02,\n",
       "          -2.7900e-01, -2.7917e-01, -2.7905e-01, -2.7301e-01, -2.7361e-01,\n",
       "          -2.9533e-01, -2.9518e-01, -2.6331e-01, -3.5595e-01, -3.1800e-01],\n",
       "         [ 1.7228e-02,  1.8260e-02, -5.8698e-02, -4.4766e-02, -2.8880e-02,\n",
       "           5.5466e-02,  5.5299e-02,  5.5410e-02, -5.3842e-02, -5.4547e-02,\n",
       "           7.7627e-02,  7.7781e-02,  8.0286e-01, -3.8100e-02,  3.3820e-02],\n",
       "         [ 1.7228e-02,  1.8260e-02, -5.8698e-02, -4.4766e-02, -2.8880e-02,\n",
       "           7.2440e-01,  7.2424e-01,  7.2434e-01,  3.8449e-01,  3.8358e-01,\n",
       "           9.3269e-01,  9.3285e-01,  3.7639e-01,  6.9064e-01,  9.6568e-01],\n",
       "         [ 1.7228e-02,  1.8260e-02, -5.8698e-02, -4.4766e-02, -2.8880e-02,\n",
       "          -2.7900e-01, -2.7917e-01, -2.7905e-01, -5.3842e-02, -5.4547e-02,\n",
       "          -3.0463e-01, -3.0448e-01, -5.0074e-02, -2.2947e-02, -3.4718e-01],\n",
       "         [ 1.7228e-02,  1.8260e-02, -5.8698e-02, -4.4766e-02, -2.8880e-02,\n",
       "           5.5466e-02,  5.5299e-02,  5.5410e-02, -5.3842e-02, -5.4547e-02,\n",
       "           9.5407e-02,  9.5561e-02, -5.0074e-02, -2.2947e-02,  7.0991e-02],\n",
       "         [ 1.7228e-02,  1.8260e-02, -5.8698e-02, -4.4766e-02, -2.8880e-02,\n",
       "           3.8993e-01,  3.8977e-01,  3.8987e-01,  1.6532e-01,  1.6452e-01,\n",
       "           4.6877e-01,  4.6893e-01,  1.6316e-01,  2.9526e-01,  4.4270e-01],\n",
       "         [ 1.7228e-02,  1.8260e-02, -5.8698e-02, -4.4766e-02, -2.8880e-02,\n",
       "           3.8993e-01,  3.8977e-01,  3.8987e-01,  1.6532e-01,  1.6452e-01,\n",
       "           2.9165e-01,  2.9181e-01,  1.6316e-01,  1.4430e-01,  1.3411e-01],\n",
       "         [ 1.7228e-02,  1.8260e-02, -5.8698e-02, -4.4766e-02, -2.8880e-02,\n",
       "          -6.1347e-01, -6.1364e-01, -6.1352e-01, -4.9217e-01, -4.9267e-01,\n",
       "          -7.0467e-01, -7.0452e-01, -4.7654e-01, -7.0482e-01, -7.4590e-01],\n",
       "         [ 1.7228e-02,  1.8260e-02, -5.8698e-02, -4.4766e-02, -2.8880e-02,\n",
       "           1.0589e+00,  1.0587e+00,  1.0588e+00,  6.0366e-01,  6.0264e-01,\n",
       "           1.2511e+00,  1.2512e+00,  5.8962e-01,  9.6198e-01,  1.2604e+00],\n",
       "         [ 1.7228e-02,  1.8260e-02, -5.8698e-02, -4.4766e-02, -2.8880e-02,\n",
       "          -6.1347e-01, -6.1364e-01, -6.1352e-01, -2.7301e-01, -2.7361e-01,\n",
       "          -7.0467e-01, -7.0452e-01, -2.6331e-01, -3.4765e-01, -7.2552e-01],\n",
       "         [ 1.7228e-02,  1.8260e-02, -5.8698e-02, -4.4766e-02, -2.8880e-02,\n",
       "          -6.1347e-01, -6.1364e-01, -6.1352e-01, -4.9217e-01, -4.9267e-01,\n",
       "          -7.0467e-01, -7.0452e-01, -4.7654e-01, -7.0482e-01, -7.0415e-01],\n",
       "         [ 1.7228e-02,  1.8260e-02, -5.8698e-02, -4.4766e-02, -2.8880e-02,\n",
       "          -6.1347e-01, -6.1364e-01, -6.1352e-01, -2.7301e-01, -2.7361e-01,\n",
       "          -7.0467e-01, -7.0452e-01, -2.6331e-01, -3.4765e-01, -7.2552e-01],\n",
       "         [ 1.7228e-02,  1.8260e-02, -5.8698e-02, -4.4766e-02, -2.8880e-02,\n",
       "          -6.1347e-01, -6.1364e-01, -6.1352e-01, -2.7301e-01, -2.7361e-01,\n",
       "          -6.1913e-01, -6.1898e-01, -2.6331e-01, -3.5595e-01, -6.5648e-01],\n",
       "         [ 1.7228e-02,  1.8260e-02, -5.8698e-02, -4.4766e-02, -2.8880e-02,\n",
       "          -2.7900e-01, -2.7917e-01, -2.7905e-01, -2.7301e-01, -2.7361e-01,\n",
       "          -2.9533e-01, -2.9518e-01, -2.6331e-01, -3.5595e-01, -3.1800e-01],\n",
       "         [ 1.7228e-02,  1.8260e-02, -5.8698e-02, -4.4766e-02, -2.8880e-02,\n",
       "          -6.1347e-01, -6.1364e-01, -6.1352e-01, -4.9217e-01, -4.9267e-01,\n",
       "          -7.0467e-01, -7.0452e-01, -4.7654e-01, -7.0482e-01, -7.2007e-01],\n",
       "         [ 1.7228e-02,  1.8260e-02, -5.8698e-02, -4.4766e-02, -2.8880e-02,\n",
       "          -6.1347e-01, -6.1364e-01, -6.1352e-01, -4.9217e-01, -4.9267e-01,\n",
       "          -4.3165e-01, -4.3150e-01, -4.7654e-01, -4.7214e-01, -4.7378e-01],\n",
       "         [ 1.7228e-02,  1.8260e-02, -5.8698e-02, -4.4766e-02, -2.8880e-02,\n",
       "          -2.7900e-01, -2.7917e-01, -2.7905e-01, -2.7301e-01, -2.7361e-01,\n",
       "          -1.2455e-01, -1.2440e-01, -2.6331e-01, -2.1041e-01, -2.3244e-01],\n",
       "         [ 1.7228e-02,  1.8260e-02, -5.8698e-02, -4.4766e-02, -2.8880e-02,\n",
       "          -6.1347e-01, -6.1364e-01, -6.1352e-01, -4.9217e-01, -4.9267e-01,\n",
       "          -7.0467e-01, -7.0452e-01, -4.7654e-01, -7.0482e-01, -7.4590e-01],\n",
       "         [ 1.7228e-02,  1.8260e-02, -5.8698e-02, -4.4766e-02, -2.8880e-02,\n",
       "          -6.1347e-01, -6.1364e-01, -6.1352e-01, -4.9217e-01, -4.9267e-01,\n",
       "          -7.0467e-01, -7.0452e-01, -4.7654e-01, -7.0482e-01, -6.8171e-01],\n",
       "         [ 1.7228e-02,  1.8260e-02, -5.8698e-02, -4.4766e-02, -2.8880e-02,\n",
       "          -6.1347e-01, -6.1364e-01, -6.1352e-01, -4.9217e-01, -4.9267e-01,\n",
       "          -7.0467e-01, -7.0452e-01, -4.7654e-01, -7.0482e-01, -6.0712e-01],\n",
       "         [ 1.7228e-02,  1.8260e-02, -5.8698e-02, -4.4766e-02, -2.8880e-02,\n",
       "          -6.1347e-01, -6.1364e-01, -6.1352e-01, -2.7301e-01, -2.7361e-01,\n",
       "          -7.0467e-01, -7.0452e-01, -2.6331e-01, -3.2017e-01, -6.5812e-01],\n",
       "         [ 1.7228e-02,  1.8260e-02, -5.8698e-02, -4.4766e-02, -2.8880e-02,\n",
       "           5.5466e-02,  5.5299e-02,  5.5410e-02,  1.6532e-01,  1.6452e-01,\n",
       "           6.0621e-02,  6.0775e-02,  1.6316e-01,  2.7352e-01, -1.7341e-03],\n",
       "         [ 1.7228e-02,  1.8260e-02, -5.8698e-02, -4.4766e-02, -2.8880e-02,\n",
       "          -6.1347e-01, -6.1364e-01, -6.1352e-01, -4.9217e-01, -4.9267e-01,\n",
       "          -7.0467e-01, -7.0452e-01, -4.7654e-01, -7.0482e-01, -6.8171e-01],\n",
       "         [ 1.7228e-02,  1.8260e-02, -5.8698e-02, -4.4766e-02, -2.8880e-02,\n",
       "           1.7278e+00,  1.7276e+00,  1.7277e+00,  1.4803e+00,  1.4789e+00,\n",
       "           1.9169e+00,  1.9170e+00,  1.4426e+00,  2.1678e+00,  1.9216e+00],\n",
       "         [ 1.7228e-02,  1.8260e-02, -5.8698e-02, -4.4766e-02, -2.8880e-02,\n",
       "           5.5466e-02,  5.5299e-02,  5.5410e-02, -5.3842e-02, -5.4547e-02,\n",
       "           1.3351e-01,  1.3366e-01, -5.0074e-02,  9.5231e-03,  1.5064e-01],\n",
       "         [ 1.7228e-02,  1.8260e-02, -5.8698e-02, -4.4766e-02, -2.8880e-02,\n",
       "           1.0589e+00,  1.0587e+00,  1.0588e+00,  6.0366e-01,  6.0264e-01,\n",
       "           9.0122e-01,  9.0138e-01,  5.8962e-01,  6.6382e-01,  7.4553e-01],\n",
       "         [ 1.7228e-02,  1.8260e-02, -5.8698e-02, -4.4766e-02, -2.8880e-02,\n",
       "           3.8993e-01,  3.8977e-01,  3.8987e-01,  1.6532e-01,  1.6452e-01,\n",
       "           2.9165e-01,  2.9181e-01,  1.6316e-01,  1.4430e-01,  1.3411e-01],\n",
       "         [ 1.7228e-02,  1.8260e-02, -5.8698e-02, -4.4766e-02, -2.8880e-02,\n",
       "          -2.7900e-01, -2.7917e-01, -2.7905e-01, -2.7301e-01, -2.7361e-01,\n",
       "          -2.7536e-01, -2.7521e-01, -4.7654e-01, -3.3894e-01, -2.5538e-01],\n",
       "         [ 1.7228e-02,  1.8260e-02, -5.8698e-02, -4.4766e-02, -2.8880e-02,\n",
       "          -2.7900e-01, -2.7917e-01, -2.7905e-01,  8.2282e-01,  8.2170e-01,\n",
       "          -4.4973e-01, -4.4958e-01,  1.2293e+00,  7.0212e-01, -8.0219e-01],\n",
       "         [ 1.7228e-02,  1.8260e-02, -5.8698e-02, -4.4766e-02, -2.8880e-02,\n",
       "          -6.1347e-01, -6.1364e-01, -6.1352e-01, -2.7301e-01, -2.7361e-01,\n",
       "          -7.0467e-01, -7.0452e-01, -2.6331e-01, -3.4765e-01, -7.2552e-01],\n",
       "         [ 1.7228e-02,  1.8260e-02, -5.8698e-02, -4.4766e-02, -2.8880e-02,\n",
       "          -6.1347e-01, -6.1364e-01, -6.1352e-01, -4.9217e-01, -4.9267e-01,\n",
       "          -7.0467e-01, -7.0452e-01, -4.7654e-01, -7.0482e-01, -6.8171e-01],\n",
       "         [ 1.7228e-02,  1.8260e-02, -5.8698e-02, -4.4766e-02, -2.8880e-02,\n",
       "          -6.1347e-01, -6.1364e-01, -6.1352e-01, -4.9217e-01, -4.9267e-01,\n",
       "          -7.0467e-01, -7.0452e-01, -6.8977e-01, -7.0482e-01, -4.8657e-01],\n",
       "         [ 1.7228e-02,  1.8260e-02, -5.8698e-02, -4.4766e-02, -2.8880e-02,\n",
       "          -6.1347e-01, -6.1364e-01, -6.1352e-01, -4.9217e-01, -4.9267e-01,\n",
       "          -6.4520e-01, -6.4505e-01, -4.7654e-01, -6.5414e-01, -6.3199e-01],\n",
       "         [ 1.7228e-02,  1.8260e-02, -5.8698e-02, -4.4766e-02, -2.8880e-02,\n",
       "          -6.1347e-01, -6.1364e-01, -6.1352e-01, -4.9217e-01, -4.9267e-01,\n",
       "          -7.0467e-01, -7.0452e-01, -4.7654e-01, -7.0482e-01, -6.8171e-01],\n",
       "         [ 1.7228e-02,  1.8260e-02, -5.8698e-02, -4.4766e-02, -2.8880e-02,\n",
       "          -6.1347e-01, -6.1364e-01, -6.1352e-01, -4.9217e-01, -4.9267e-01,\n",
       "          -7.0467e-01, -7.0452e-01, -2.6331e-01, -7.0482e-01, -7.4590e-01],\n",
       "         [ 1.7228e-02,  1.8260e-02, -5.8698e-02, -4.4766e-02, -2.8880e-02,\n",
       "          -6.1347e-01, -6.1364e-01, -6.1352e-01, -2.7301e-01, -2.7361e-01,\n",
       "          -7.0467e-01, -7.0452e-01, -2.6331e-01, -3.1005e-01, -6.3329e-01],\n",
       "         [ 1.7228e-02,  1.8260e-02, -5.8698e-02, -4.4766e-02, -2.8880e-02,\n",
       "          -2.7900e-01, -2.7917e-01, -2.7905e-01, -2.7301e-01, -2.7361e-01,\n",
       "          -2.5334e-01, -2.5319e-01, -2.6331e-01, -3.2017e-01, -1.8634e-01],\n",
       "         [ 1.7228e-02,  1.8260e-02, -5.8698e-02, -4.4766e-02, -2.8880e-02,\n",
       "          -6.1347e-01, -6.1364e-01, -6.1352e-01, -4.9217e-01, -4.9267e-01,\n",
       "          -7.0467e-01, -7.0452e-01, -4.7654e-01, -7.0482e-01, -6.8171e-01],\n",
       "         [ 1.7228e-02,  1.8260e-02, -5.8698e-02, -4.4766e-02, -2.8880e-02,\n",
       "          -6.1347e-01, -6.1364e-01, -6.1352e-01, -4.9217e-01, -4.9267e-01,\n",
       "          -4.2667e-01, -4.2652e-01, -6.8977e-01, -4.6790e-01, -4.1356e-01],\n",
       "         [ 1.7228e-02,  1.8260e-02, -5.8698e-02, -4.4766e-02, -2.8880e-02,\n",
       "          -6.1347e-01, -6.1364e-01, -6.1352e-01, -4.9217e-01, -4.9267e-01,\n",
       "          -7.0467e-01, -7.0452e-01, -4.7654e-01, -7.0482e-01, -7.6535e-01],\n",
       "         [ 1.7228e-02,  1.8260e-02, -5.8698e-02, -4.4766e-02, -2.8880e-02,\n",
       "           5.5466e-02,  5.5299e-02,  5.5410e-02, -5.3842e-02, -5.4547e-02,\n",
       "           1.1401e-01,  1.1417e-01, -5.0074e-02, -7.0896e-03,  1.0989e-01],\n",
       "         [ 1.7228e-02,  1.8260e-02, -5.8698e-02, -4.4766e-02, -2.8880e-02,\n",
       "          -6.1347e-01, -6.1364e-01, -6.1352e-01, -4.9217e-01, -4.9267e-01,\n",
       "          -7.0467e-01, -7.0452e-01, -4.7654e-01, -7.0482e-01, -7.4590e-01],\n",
       "         [ 1.7228e-02,  1.8260e-02, -5.8698e-02, -4.4766e-02, -2.8880e-02,\n",
       "           5.5466e-02,  5.5299e-02,  5.5410e-02, -5.3842e-02, -5.4547e-02,\n",
       "           1.1401e-01,  1.1417e-01, -5.0074e-02, -7.0896e-03,  1.0989e-01],\n",
       "         [ 1.7228e-02,  1.8260e-02, -5.8698e-02, -4.4766e-02, -2.8880e-02,\n",
       "          -6.1347e-01, -6.1364e-01, -6.1352e-01, -4.9217e-01, -4.9267e-01,\n",
       "          -7.0467e-01, -7.0452e-01, -4.7654e-01, -7.0482e-01, -7.6535e-01],\n",
       "         [ 1.7228e-02,  1.8260e-02, -5.8698e-02, -4.4766e-02, -2.8880e-02,\n",
       "          -6.1347e-01, -6.1364e-01, -6.1352e-01, -4.9217e-01, -4.9267e-01,\n",
       "          -7.0467e-01, -7.0452e-01, -4.7654e-01, -7.0482e-01, -6.5812e-01],\n",
       "         [ 1.7228e-02,  1.8260e-02, -5.8698e-02, -4.4766e-02, -2.8880e-02,\n",
       "           5.5466e-02,  5.5299e-02,  5.5410e-02, -5.3842e-02, -5.4547e-02,\n",
       "           1.5395e-01,  1.5410e-01, -5.0074e-02,  2.6946e-02,  1.9338e-01],\n",
       "         [ 1.7228e-02,  1.8260e-02, -5.8698e-02, -4.4766e-02, -2.8880e-02,\n",
       "          -6.1347e-01, -6.1364e-01, -6.1352e-01, -4.9217e-01, -4.9267e-01,\n",
       "          -7.0467e-01, -7.0452e-01, -4.7654e-01, -7.0482e-01, -7.0415e-01],\n",
       "         [ 1.7228e-02,  1.8260e-02, -5.8698e-02, -4.4766e-02, -2.8880e-02,\n",
       "          -6.1347e-01, -6.1364e-01, -6.1352e-01, -4.9217e-01, -4.9267e-01,\n",
       "          -7.0467e-01, -7.0452e-01, -4.7654e-01, -7.0482e-01, -6.0712e-01],\n",
       "         [ 1.7228e-02,  1.8260e-02, -5.8698e-02, -4.4766e-02, -2.8880e-02,\n",
       "          -6.1347e-01, -6.1364e-01, -6.1352e-01, -4.9217e-01, -4.9267e-01,\n",
       "          -7.0467e-01, -7.0452e-01, -4.7654e-01, -7.0482e-01, -6.8171e-01]]),\n",
       " tensor([1., 1., 0., 1., 1., 0., 0., 1., 0., 1., 1., 0., 0., 0., 0., 0., 1., 1.,\n",
       "         1., 0., 1., 0., 0., 1., 0., 0., 1., 0., 1., 0., 0., 0., 1., 0., 1., 1.,\n",
       "         1., 1., 1., 0., 0., 0., 0., 0., 1., 0., 1., 0., 0., 1., 1., 1., 0., 0.,\n",
       "         1., 1., 0., 1., 0., 0., 1., 0., 1., 1.])]"
      ]
     },
     "execution_count": 175,
     "metadata": {},
     "output_type": "execute_result"
    }
   ],
   "source": [
    "next(iter(train_loader))"
   ]
  },
  {
   "cell_type": "markdown",
   "metadata": {},
   "source": [
    "<h4>Базовый класс модели<h4>"
   ]
  },
  {
   "cell_type": "code",
   "execution_count": 176,
   "metadata": {},
   "outputs": [],
   "source": [
    "class MLPModel(nn.Module):\n",
    "    def __init__(self, input_dim, hidden_dim=64):\n",
    "        super(MLPModel, self).__init__()\n",
    "        self.fc1 = nn.Linear(input_dim, hidden_dim)\n",
    "        self.fc2 = nn.Linear(hidden_dim, 1)\n",
    "        self.relu = nn.ReLU()\n",
    "        self.sigmoid = nn.Sigmoid()\n",
    "\n",
    "    def forward(self, x):\n",
    "        x = self.fc1(x)\n",
    "        x = self.relu(x)\n",
    "        x = self.fc2(x)\n",
    "        x = self.sigmoid(x)\n",
    "        return x"
   ]
  },
  {
   "cell_type": "markdown",
   "metadata": {},
   "source": [
    "Инициализация"
   ]
  },
  {
   "cell_type": "code",
   "execution_count": 177,
   "metadata": {},
   "outputs": [],
   "source": [
    "device = torch.device(\"cuda\" if torch.cuda.is_available() else \"cpu\")\n",
    "model = MLPModel(input_dim=X_train_scaled.shape[1]).to(device)\n",
    "criterion = nn.BCELoss()\n",
    "optimizer = optim.Adam(model.parameters(), lr=0.001)"
   ]
  },
  {
   "cell_type": "markdown",
   "metadata": {},
   "source": [
    "Описание модели"
   ]
  },
  {
   "cell_type": "code",
   "execution_count": 178,
   "metadata": {},
   "outputs": [
    {
     "name": "stdout",
     "output_type": "stream",
     "text": [
      "MLPModel(\n",
      "  (fc1): Linear(in_features=15, out_features=64, bias=True)\n",
      "  (fc2): Linear(in_features=64, out_features=1, bias=True)\n",
      "  (relu): ReLU()\n",
      "  (sigmoid): Sigmoid()\n",
      ")\n"
     ]
    }
   ],
   "source": [
    "print(model)"
   ]
  },
  {
   "cell_type": "markdown",
   "metadata": {},
   "source": [
    "<h4>Циклы обучения и валидации<h4>"
   ]
  },
  {
   "cell_type": "code",
   "execution_count": 179,
   "metadata": {},
   "outputs": [],
   "source": [
    "def train_model(model, train_loader, val_loader, criterion, optimizer, epochs=EPOCHS):\n",
    "    train_losses, val_losses = [], []\n",
    "    best_val_loss = float('inf')\n",
    "    best_model_state = None\n",
    "    \n",
    "    for epoch in range(epochs):\n",
    "        model.train()\n",
    "        running_train_loss = 0.0\n",
    "        \n",
    "       \n",
    "        for inputs, labels in train_loader:\n",
    "            inputs, labels = inputs.to(device), labels.to(device)\n",
    "            optimizer.zero_grad()\n",
    "            outputs = model(inputs).squeeze(1)\n",
    "            loss = criterion(outputs, labels)\n",
    "            loss.backward()\n",
    "            optimizer.step()\n",
    "            running_train_loss += loss.item()\n",
    "        \n",
    "        avg_train_loss = running_train_loss / len(train_loader)\n",
    "        train_losses.append(avg_train_loss)\n",
    "        \n",
    "        \n",
    "        model.eval()\n",
    "        running_val_loss = 0.0\n",
    "        \n",
    "        with torch.no_grad():\n",
    "            for inputs, labels in val_loader:\n",
    "                inputs, labels = inputs.to(device), labels.to(device)\n",
    "                outputs = model(inputs).squeeze(1)\n",
    "                loss = criterion(outputs, labels)\n",
    "                running_val_loss += loss.item()\n",
    "        \n",
    "        avg_val_loss = running_val_loss / len(val_loader)\n",
    "        val_losses.append(avg_val_loss)\n",
    "        \n",
    "        \n",
    "        if avg_val_loss < best_val_loss:\n",
    "            best_val_loss = avg_val_loss\n",
    "            best_model_state = model.state_dict()\n",
    "        \n",
    "        print(f\"Epoch [{epoch+1}/{epochs}], Train Loss: {avg_train_loss:.4f}, Val Loss: {avg_val_loss:.4f}\")\n",
    "    \n",
    "    model.load_state_dict(best_model_state)\n",
    "    return model, train_losses, val_losses"
   ]
  },
  {
   "cell_type": "markdown",
   "metadata": {},
   "source": [
    "<h4>Обучение модели<h4>"
   ]
  },
  {
   "cell_type": "code",
   "execution_count": 180,
   "metadata": {},
   "outputs": [
    {
     "name": "stdout",
     "output_type": "stream",
     "text": [
      "Epoch [1/20], Train Loss: 0.6798, Val Loss: 0.6684\n",
      "Epoch [2/20], Train Loss: 0.6632, Val Loss: 0.6571\n",
      "Epoch [3/20], Train Loss: 0.6527, Val Loss: 0.6495\n",
      "Epoch [4/20], Train Loss: 0.6446, Val Loss: 0.6433\n",
      "Epoch [5/20], Train Loss: 0.6384, Val Loss: 0.6374\n",
      "Epoch [6/20], Train Loss: 0.6318, Val Loss: 0.6322\n",
      "Epoch [7/20], Train Loss: 0.6269, Val Loss: 0.6238\n",
      "Epoch [8/20], Train Loss: 0.6200, Val Loss: 0.6167\n",
      "Epoch [9/20], Train Loss: 0.6135, Val Loss: 0.6110\n",
      "Epoch [10/20], Train Loss: 0.6067, Val Loss: 0.6037\n",
      "Epoch [11/20], Train Loss: 0.5989, Val Loss: 0.5972\n",
      "Epoch [12/20], Train Loss: 0.5922, Val Loss: 0.5905\n",
      "Epoch [13/20], Train Loss: 0.5868, Val Loss: 0.5832\n",
      "Epoch [14/20], Train Loss: 0.5796, Val Loss: 0.5768\n",
      "Epoch [15/20], Train Loss: 0.5749, Val Loss: 0.5710\n",
      "Epoch [16/20], Train Loss: 0.5683, Val Loss: 0.5650\n",
      "Epoch [17/20], Train Loss: 0.5630, Val Loss: 0.5597\n",
      "Epoch [18/20], Train Loss: 0.5589, Val Loss: 0.5551\n",
      "Epoch [19/20], Train Loss: 0.5542, Val Loss: 0.5503\n",
      "Epoch [20/20], Train Loss: 0.5493, Val Loss: 0.5458\n"
     ]
    }
   ],
   "source": [
    "model, train_losses, val_losses = train_model(model, train_loader, val_loader, criterion, optimizer, epochs=EPOCHS)"
   ]
  },
  {
   "cell_type": "markdown",
   "metadata": {},
   "source": [
    "<h4>Визуализация обучения и валидации<h4>"
   ]
  },
  {
   "cell_type": "code",
   "execution_count": 181,
   "metadata": {},
   "outputs": [
    {
     "data": {
      "image/png": "[encoded data removed]",
      "text/plain": [
       "<Figure size 640x480 with 1 Axes>"
      ]
     },
     "metadata": {},
     "output_type": "display_data"
    }
   ],
   "source": [
    "plt.plot(train_losses, label='Train Loss')\n",
    "plt.plot(val_losses, label='Validation Loss')\n",
    "plt.xlabel('Период')\n",
    "plt.ylabel('Потеря')\n",
    "plt.legend()\n",
    "plt.title('Потеря обучения и валидации')\n",
    "plt.show()"
   ]
  },
  {
   "cell_type": "markdown",
   "metadata": {},
   "source": [
    "<h4>Оценка модели на тестовой выборки<h4>"
   ]
  },
  {
   "cell_type": "code",
   "execution_count": 182,
   "metadata": {},
   "outputs": [],
   "source": [
    "def evaluate_model(model, test_loader):\n",
    "    model.eval()\n",
    "    all_labels = []\n",
    "    all_preds = []\n",
    "    \n",
    "    with torch.no_grad():\n",
    "        for inputs, labels in test_loader:\n",
    "            inputs, labels = inputs.to(device), labels.to(device)\n",
    "            outputs = model(inputs).squeeze(1)\n",
    "            preds = (outputs > 0.5).float()\n",
    "            all_labels.extend(labels.cpu().numpy())\n",
    "            all_preds.extend(preds.cpu().numpy())\n",
    "    \n",
    "    return classification_report(all_labels, all_preds)\n"
   ]
  },
  {
   "cell_type": "code",
   "execution_count": 183,
   "metadata": {},
   "outputs": [
    {
     "name": "stdout",
     "output_type": "stream",
     "text": [
      "              precision    recall  f1-score   support\n",
      "\n",
      "         0.0       0.73      0.78      0.76       981\n",
      "         1.0       0.78      0.73      0.75      1019\n",
      "\n",
      "    accuracy                           0.76      2000\n",
      "   macro avg       0.76      0.76      0.75      2000\n",
      "weighted avg       0.76      0.76      0.75      2000\n",
      "\n"
     ]
    }
   ],
   "source": [
    "classification_report_str = evaluate_model(model, test_loader)\n",
    "print(classification_report_str)"
   ]
  },
  {
   "cell_type": "markdown",
   "metadata": {},
   "source": [
    "<h4>Улучшение модели (BatchNorm и Dropout)<h4>"
   ]
  },
  {
   "cell_type": "code",
   "execution_count": 184,
   "metadata": {},
   "outputs": [],
   "source": [
    "class ImprovedMLPModel(nn.Module):\n",
    "    def __init__(self, input_dim, hidden_dim=64, dropout_prob=0.3):\n",
    "        super(ImprovedMLPModel, self).__init__()\n",
    "        self.fc1 = nn.Linear(input_dim, hidden_dim)\n",
    "        self.bn1 = nn.BatchNorm1d(hidden_dim)\n",
    "        self.fc2 = nn.Linear(hidden_dim, hidden_dim)\n",
    "        self.bn2 = nn.BatchNorm1d(hidden_dim)\n",
    "        self.fc3 = nn.Linear(hidden_dim, 1)\n",
    "        self.relu = nn.ReLU()\n",
    "        self.sigmoid = nn.Sigmoid()\n",
    "        self.dropout = nn.Dropout(p=dropout_prob)\n",
    "\n",
    "    def forward(self, x):\n",
    "        x = self.fc1(x)\n",
    "        x = self.bn1(x)\n",
    "        x = self.relu(x)\n",
    "        x = self.dropout(x)\n",
    "        \n",
    "        x = self.fc2(x)\n",
    "        x = self.bn2(x)\n",
    "        x = self.relu(x)\n",
    "        x = self.dropout(x)\n",
    "        \n",
    "        x = self.fc3(x)\n",
    "        x = self.sigmoid(x)\n",
    "        return x"
   ]
  },
  {
   "cell_type": "markdown",
   "metadata": {},
   "source": [
    "<h4>Инициализатор<h4>"
   ]
  },
  {
   "cell_type": "code",
   "execution_count": 185,
   "metadata": {},
   "outputs": [],
   "source": [
    "model = ImprovedMLPModel(input_dim=X_train_scaled.shape[1]).to(device)\n",
    "optimizer = optim.Adam(model.parameters(), lr=0.001)"
   ]
  },
  {
   "cell_type": "markdown",
   "metadata": {},
   "source": [
    "<h4>Обучение улучшенной модели<h4>"
   ]
  },
  {
   "cell_type": "code",
   "execution_count": 186,
   "metadata": {},
   "outputs": [
    {
     "name": "stdout",
     "output_type": "stream",
     "text": [
      "Epoch [1/20], Train Loss: 0.6536, Val Loss: 0.6478\n",
      "Epoch [2/20], Train Loss: 0.6097, Val Loss: 0.6258\n",
      "Epoch [3/20], Train Loss: 0.5741, Val Loss: 0.5853\n",
      "Epoch [4/20], Train Loss: 0.5635, Val Loss: 0.5744\n",
      "Epoch [5/20], Train Loss: 0.5501, Val Loss: 0.5498\n",
      "Epoch [6/20], Train Loss: 0.5492, Val Loss: 0.5697\n",
      "Epoch [7/20], Train Loss: 0.5301, Val Loss: 0.5948\n",
      "Epoch [8/20], Train Loss: 0.5324, Val Loss: 0.5813\n",
      "Epoch [9/20], Train Loss: 0.5258, Val Loss: 0.5668\n",
      "Epoch [10/20], Train Loss: 0.5248, Val Loss: 0.5523\n",
      "Epoch [11/20], Train Loss: 0.5223, Val Loss: 0.6103\n",
      "Epoch [12/20], Train Loss: 0.5197, Val Loss: 0.5157\n",
      "Epoch [13/20], Train Loss: 0.5246, Val Loss: 0.5785\n",
      "Epoch [14/20], Train Loss: 0.5234, Val Loss: 0.4883\n",
      "Epoch [15/20], Train Loss: 0.5101, Val Loss: 0.5441\n",
      "Epoch [16/20], Train Loss: 0.5105, Val Loss: 0.5248\n",
      "Epoch [17/20], Train Loss: 0.5114, Val Loss: 0.5392\n",
      "Epoch [18/20], Train Loss: 0.5118, Val Loss: 0.5329\n",
      "Epoch [19/20], Train Loss: 0.5081, Val Loss: 0.5406\n",
      "Epoch [20/20], Train Loss: 0.5004, Val Loss: 0.4884\n"
     ]
    }
   ],
   "source": [
    "model, train_losses, val_losses = train_model(model, train_loader, val_loader, criterion, optimizer, epochs=EPOCHS)"
   ]
  },
  {
   "cell_type": "markdown",
   "metadata": {},
   "source": [
    "<h4>Визуализация улучшенной модели<h4>"
   ]
  },
  {
   "cell_type": "code",
   "execution_count": 187,
   "metadata": {},
   "outputs": [
    {
     "data": {
      "image/png": "[encoded data removed]",
      "text/plain": [
       "<Figure size 640x480 with 1 Axes>"
      ]
     },
     "metadata": {},
     "output_type": "display_data"
    }
   ],
   "source": [
    "plt.plot(train_losses, label='Train Loss')\n",
    "plt.plot(val_losses, label='Validation Loss')\n",
    "plt.xlabel('Период')\n",
    "plt.ylabel('Потеря')\n",
    "plt.legend()\n",
    "plt.title('Потеря обучения и валидации (улучшенная модель)')\n",
    "plt.show()"
   ]
  },
  {
   "cell_type": "markdown",
   "metadata": {},
   "source": [
    "<h4>Оценка улучшенной модели<h4>"
   ]
  },
  {
   "cell_type": "code",
   "execution_count": 188,
   "metadata": {},
   "outputs": [
    {
     "name": "stdout",
     "output_type": "stream",
     "text": [
      "              precision    recall  f1-score   support\n",
      "\n",
      "         0.0       0.82      0.64      0.72       981\n",
      "         1.0       0.72      0.86      0.78      1019\n",
      "\n",
      "    accuracy                           0.75      2000\n",
      "   macro avg       0.77      0.75      0.75      2000\n",
      "weighted avg       0.76      0.75      0.75      2000\n",
      "\n"
     ]
    }
   ],
   "source": [
    "classification_report_str = evaluate_model(model, test_loader)\n",
    "print(classification_report_str)"
   ]
  },
  {
   "cell_type": "markdown",
   "metadata": {},
   "source": [
    "После обучения модели на тренировочных и валидационных данных, измеряю её качество на тестовой выборке с помощью classification_report, который дает подробную информацию о точности, полноте, F1-мере и других метриках.\n",
    "\n",
    "Precision и Recall важны в задачах классификации вредоносного ПО, где важно минимизировать как ложные срабатывания, так и пропуски."
   ]
  }
 ],
 "metadata": {
  "kernelspec": {
   "display_name": ".venv",
   "language": "python",
   "name": "python3"
  },
  "language_info": {
   "codemirror_mode": {
    "name": "ipython",
    "version": 3
   },
   "file_extension": ".py",
   "mimetype": "text/x-python",
   "name": "python",
   "nbconvert_exporter": "python",
   "pygments_lexer": "ipython3",
   "version": "3.9.6"
  }
 },
 "nbformat": 4,
 "nbformat_minor": 2
}

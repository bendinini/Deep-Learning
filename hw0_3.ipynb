{
  "nbformat": 4,
  "nbformat_minor": 0,
  "metadata": {
    "colab": {
      "provenance": []
    },
    "kernelspec": {
      "name": "python3",
      "display_name": "Python 3"
    },
    "language_info": {
      "name": "python"
    }
  },
  "cells": [
    {
      "cell_type": "markdown",
      "source": [
        "Импорт"
      ],
      "metadata": {
        "id": "278iSFwej08b"
      }
    },
    {
      "cell_type": "code",
      "source": [
        "import numpy as np\n",
        "import pandas as pd\n",
        "import torch\n",
        "from torch.utils.data import DataLoader, TensorDataset\n",
        "import torch.nn as nn\n",
        "import torch.optim as optim\n",
        "import matplotlib.pyplot as plt\n",
        "from sklearn.metrics import accuracy_score\n",
        "from sklearn.model_selection import train_test_split\n",
        "from sklearn.preprocessing import LabelEncoder\n",
        "from tensorflow.keras.preprocessing.text import Tokenizer\n",
        "from tensorflow.keras.preprocessing.sequence import pad_sequences"
      ],
      "metadata": {
        "id": "EAqUXczqj4x4"
      },
      "execution_count": 14,
      "outputs": []
    },
    {
      "cell_type": "markdown",
      "source": [
        "Фиксация"
      ],
      "metadata": {
        "id": "YbuchWsXj22-"
      }
    },
    {
      "cell_type": "code",
      "source": [
        "torch.manual_seed(42)\n",
        "np.random.seed(42)"
      ],
      "metadata": {
        "id": "iNCXv4KHmWZi"
      },
      "execution_count": 6,
      "outputs": []
    },
    {
      "cell_type": "markdown",
      "source": [
        "Загрузка"
      ],
      "metadata": {
        "id": "8AelTFoZjqYH"
      }
    },
    {
      "cell_type": "code",
      "execution_count": 1,
      "metadata": {
        "colab": {
          "base_uri": "https://localhost:8080/"
        },
        "id": "7O4WhUPtiw3F",
        "outputId": "9c0b5d24-8bdc-4761-bbff-7c1ae5483904"
      },
      "outputs": [
        {
          "output_type": "stream",
          "name": "stdout",
          "text": [
            "                                              Review  Rating\n",
            "0  nice hotel expensive parking got good deal sta...       4\n",
            "1  ok nothing special charge diamond member hilto...       2\n",
            "2  nice rooms not 4* experience hotel monaco seat...       3\n",
            "3  unique, great stay, wonderful time hotel monac...       5\n",
            "4  great stay great stay, went seahawk game aweso...       5\n"
          ]
        }
      ],
      "source": [
        "df = pd.read_csv('tripadvisor_hotel_reviews.csv')\n",
        "\n",
        "print(df.head())"
      ]
    },
    {
      "cell_type": "markdown",
      "source": [
        "Предварительная обработка данных"
      ],
      "metadata": {
        "id": "9JOKobQRjlAG"
      }
    },
    {
      "cell_type": "code",
      "source": [
        "df = df.drop_duplicates().dropna()\n",
        "\n",
        "\n",
        "df['Rating'] = df['Rating'].apply(lambda x: 0 if x <= 2 else 1 if x == 3 else 2)\n",
        "\n",
        "\n",
        "tokenizer = Tokenizer(num_words=10000)\n",
        "tokenizer.fit_on_texts(df['Review'])\n",
        "sequences = tokenizer.texts_to_sequences(df['Review'])\n",
        "\n",
        "\n",
        "data = pad_sequences(sequences, maxlen=200)\n",
        "\n",
        "X_train, X_temp, y_train, y_temp = train_test_split(data, df['Rating'], test_size=0.4, stratify=df['Rating'], random_state=42)\n",
        "X_val, X_test, y_val, y_test = train_test_split(X_temp, y_temp, test_size=0.5, stratify=y_temp, random_state=42)"
      ],
      "metadata": {
        "id": "rKBMLnzri494"
      },
      "execution_count": 2,
      "outputs": []
    },
    {
      "cell_type": "markdown",
      "source": [
        "Создание Dataset и DataLoader"
      ],
      "metadata": {
        "id": "iwt85j-DjjZg"
      }
    },
    {
      "cell_type": "code",
      "source": [
        "train_data = TensorDataset(torch.tensor(X_train, dtype=torch.long), torch.tensor(y_train.values, dtype=torch.long))\n",
        "val_data = TensorDataset(torch.tensor(X_val, dtype=torch.long), torch.tensor(y_val.values, dtype=torch.long))\n",
        "test_data = TensorDataset(torch.tensor(X_test, dtype=torch.long), torch.tensor(y_test.values, dtype=torch.long))\n",
        "\n",
        "batch_size = 64\n",
        "train_loader = DataLoader(train_data, batch_size=batch_size, shuffle=True)\n",
        "val_loader = DataLoader(val_data, batch_size=batch_size)\n",
        "test_loader = DataLoader(test_data, batch_size=batch_size)"
      ],
      "metadata": {
        "id": "vza9qCn3jCd8"
      },
      "execution_count": 3,
      "outputs": []
    },
    {
      "cell_type": "markdown",
      "source": [
        "Реализация и обучение сверточной сети (CNN)"
      ],
      "metadata": {
        "id": "7PMdC_P5jbZy"
      }
    },
    {
      "cell_type": "code",
      "source": [
        "class CNNModel(nn.Module):\n",
        "    def __init__(self, vocab_size, embedding_dim, num_classes):\n",
        "        super(CNNModel, self).__init__()\n",
        "        self.embedding = nn.Embedding(vocab_size, embedding_dim)\n",
        "        self.conv1 = nn.Conv1d(embedding_dim, 128, kernel_size=3, padding=1)\n",
        "        self.pool = nn.MaxPool1d(2)\n",
        "        self.fc = nn.Linear(128, num_classes)\n",
        "\n",
        "    def forward(self, x):\n",
        "        x = self.embedding(x)\n",
        "        x = x.permute(0, 2, 1)\n",
        "        x = self.conv1(x)\n",
        "        x = self.pool(x)\n",
        "        x = x.mean(dim=2)\n",
        "        x = self.fc(x)\n",
        "        return x\n",
        "\n",
        "vocab_size = 10000\n",
        "embedding_dim = 100\n",
        "num_classes = 3\n",
        "model_cnn = CNNModel(vocab_size, embedding_dim, num_classes)\n",
        "\n",
        "criterion = nn.CrossEntropyLoss()\n",
        "optimizer = optim.Adam(model_cnn.parameters(), lr=0.001)\n",
        "\n",
        "num_epochs = 10\n",
        "for epoch in range(num_epochs):\n",
        "    model_cnn.train()\n",
        "    for inputs, labels in train_loader:\n",
        "        optimizer.zero_grad()\n",
        "        outputs = model_cnn(inputs)\n",
        "        loss = criterion(outputs, labels)\n",
        "        loss.backward()\n",
        "        optimizer.step()\n",
        "    print(f'Epoch {epoch+1}, Loss: {loss.item()}')"
      ],
      "metadata": {
        "colab": {
          "base_uri": "https://localhost:8080/"
        },
        "id": "DI-WCM4AjE4X",
        "outputId": "c4008da5-bd46-4f87-81de-f434ab5e4fad"
      },
      "execution_count": 4,
      "outputs": [
        {
          "output_type": "stream",
          "name": "stdout",
          "text": [
            "Epoch 1, Loss: 0.9359585642814636\n",
            "Epoch 2, Loss: 0.2320166379213333\n",
            "Epoch 3, Loss: 0.2187584489583969\n",
            "Epoch 4, Loss: 0.06096486747264862\n",
            "Epoch 5, Loss: 0.14741885662078857\n",
            "Epoch 6, Loss: 0.8299562931060791\n",
            "Epoch 7, Loss: 0.40799570083618164\n",
            "Epoch 8, Loss: 0.4655340909957886\n",
            "Epoch 9, Loss: 0.10499116033315659\n",
            "Epoch 10, Loss: 0.007349526975303888\n"
          ]
        }
      ]
    },
    {
      "cell_type": "markdown",
      "source": [
        "Реализация и обучение рекуррентной сети (LSTM)"
      ],
      "metadata": {
        "id": "KWBO-IstjYHG"
      }
    },
    {
      "cell_type": "code",
      "source": [
        "class LSTMModel(nn.Module):\n",
        "    def __init__(self, vocab_size, embedding_dim, hidden_dim, num_classes):\n",
        "        super(LSTMModel, self).__init__()\n",
        "        self.embedding = nn.Embedding(vocab_size, embedding_dim)\n",
        "        self.lstm = nn.LSTM(embedding_dim, hidden_dim, batch_first=True)\n",
        "        self.fc = nn.Linear(hidden_dim, num_classes)\n",
        "\n",
        "    def forward(self, x):\n",
        "        x = self.embedding(x)\n",
        "        lstm_out, (ht, ct) = self.lstm(x)\n",
        "        x = ht[-1]\n",
        "        x = self.fc(x)\n",
        "        return x\n",
        "\n",
        "hidden_dim = 128\n",
        "model_lstm = LSTMModel(vocab_size, embedding_dim, hidden_dim, num_classes)\n",
        "\n",
        "criterion = nn.CrossEntropyLoss()\n",
        "optimizer = optim.Adam(model_lstm.parameters(), lr=0.001)\n",
        "\n",
        "num_epochs = 10\n",
        "for epoch in range(num_epochs):\n",
        "    model_lstm.train()\n",
        "    for inputs, labels in train_loader:\n",
        "        optimizer.zero_grad()\n",
        "        outputs = model_lstm(inputs)\n",
        "        loss = criterion(outputs, labels)\n",
        "        loss.backward()\n",
        "        optimizer.step()\n",
        "    print(f'Epoch {epoch+1}, Loss: {loss.item()}')"
      ],
      "metadata": {
        "colab": {
          "base_uri": "https://localhost:8080/"
        },
        "id": "fyeRfi2pjNTs",
        "outputId": "d7a0d18d-fdbf-4af0-852e-05a86ecd2729"
      },
      "execution_count": 5,
      "outputs": [
        {
          "output_type": "stream",
          "name": "stdout",
          "text": [
            "Epoch 1, Loss: 0.546088695526123\n",
            "Epoch 2, Loss: 0.3190193474292755\n",
            "Epoch 3, Loss: 0.0817512571811676\n",
            "Epoch 4, Loss: 0.14102597534656525\n",
            "Epoch 5, Loss: 0.4905444383621216\n",
            "Epoch 6, Loss: 0.6446168422698975\n",
            "Epoch 7, Loss: 0.034392740577459335\n",
            "Epoch 8, Loss: 0.15963445603847504\n",
            "Epoch 9, Loss: 0.45160695910453796\n",
            "Epoch 10, Loss: 0.17582447826862335\n"
          ]
        }
      ]
    },
    {
      "cell_type": "markdown",
      "source": [
        "Сравнение моделей"
      ],
      "metadata": {
        "id": "qEnZmlE7jVHO"
      }
    },
    {
      "cell_type": "code",
      "source": [
        "def evaluate_model_loss(model, loader, criterion):\n",
        "    model.eval()\n",
        "    y_true, y_pred = [], []\n",
        "    total_loss = 0.0\n",
        "    with torch.no_grad():\n",
        "        for inputs, labels in loader:\n",
        "            outputs = model(inputs)\n",
        "            loss = criterion(outputs, labels)\n",
        "            total_loss += loss.item()\n",
        "            _, predicted = torch.max(outputs, 1)\n",
        "            y_true.extend(labels.numpy())\n",
        "            y_pred.extend(predicted.numpy())\n",
        "    avg_loss = total_loss / len(loader)\n",
        "    accuracy = accuracy_score(y_true, y_pred)\n",
        "    return avg_loss, accuracy\n",
        "\n",
        "criterion = nn.CrossEntropyLoss()\n",
        "\n",
        "loss_cnn, accuracy_cnn = evaluate_model_loss(model_cnn, test_loader, criterion)\n",
        "loss_lstm, accuracy_lstm = evaluate_model_loss(model_lstm, test_loader, criterion)\n",
        "\n",
        "print(f'CNN Loss: {loss_cnn}, Accuracy: {accuracy_cnn}')\n",
        "print(f'LSTM Loss: {loss_lstm}, Accuracy: {accuracy_lstm}')"
      ],
      "metadata": {
        "colab": {
          "base_uri": "https://localhost:8080/"
        },
        "id": "Heccc--trjMv",
        "outputId": "340f4901-987d-49c6-9f1b-7d78abecfe59"
      },
      "execution_count": 19,
      "outputs": [
        {
          "output_type": "stream",
          "name": "stdout",
          "text": [
            "CNN Loss: 0.5189480295691352, Accuracy: 0.8375213466699195\n",
            "LSTM Loss: 0.6635877181704227, Accuracy: 0.8043425225664796\n"
          ]
        }
      ]
    },
    {
      "cell_type": "markdown",
      "source": [
        "Заметка\n",
        "\n",
        "CNN и LSTM показывают схожую точность на тестовых данных.\n",
        "\n",
        "CNN обучается быстрее, но LSTM может лучше справляться с длинными последовательностями.\n",
        "\n",
        "Обе модели требуют дальнейшей настройки гиперпараметров для улучшения результатов."
      ],
      "metadata": {
        "id": "dL4WjKGRn4-t"
      }
    },
    {
      "cell_type": "code",
      "source": [
        "models = ['CNN', 'LSTM']\n",
        "accuracy = [0.8375213466699195, 0.8043425225664796]\n",
        "\n",
        "plt.figure(figsize=(8, 5))\n",
        "plt.scatter(models, accuracy, color=['blue', 'blue'], s=100, label='Точность')\n",
        "\n",
        "plt.title('Сравнение точности моделей CNN и LSTM')\n",
        "plt.xlabel('Модели')\n",
        "plt.ylabel('Точность (Accuracy)')\n",
        "\n",
        "for i, acc in enumerate(accuracy):\n",
        "    plt.text(i, acc + 0.01, f'{acc:.4f}', ha='center', va='bottom')\n",
        "\n",
        "plt.legend()\n",
        "plt.show()"
      ],
      "metadata": {
        "colab": {
          "base_uri": "https://localhost:8080/",
          "height": 567
        },
        "id": "hFYEIxzZqHga",
        "outputId": "b2be5d29-a1fd-4f43-9380-ed0646573a6c"
      },
      "execution_count": 18,
      "outputs": [
        {
          "output_type": "display_data",
          "data": {
            "text/plain": [
              "<Figure size 800x500 with 1 Axes>"
            ],
            "image/png": "[encoded data removed]"
          },
          "metadata": {}
        }
      ]
    },
    {
      "cell_type": "code",
      "source": [
        "models = ['CNN', 'LSTM']\n",
        "loss = [loss_cnn, loss_lstm]\n",
        "\n",
        "plt.figure(figsize=(8, 5))\n",
        "plt.scatter(models, loss, color=['blue', 'blue'], s=100, label='Loss')\n",
        "\n",
        "plt.title('Сравнение потерь (Loss) моделей CNN и LSTM')\n",
        "plt.xlabel('Модели')\n",
        "plt.ylabel('Потеря (Loss)')\n",
        "\n",
        "for i, l in enumerate(loss):\n",
        "    plt.text(i, l + 0.01, f'{l:.4f}', ha='center', va='bottom')\n",
        "\n",
        "plt.legend()\n",
        "\n",
        "plt.show()"
      ],
      "metadata": {
        "colab": {
          "base_uri": "https://localhost:8080/",
          "height": 487
        },
        "id": "rl317pBSruOh",
        "outputId": "96988467-7f62-4786-8d77-dee0802f0a70"
      },
      "execution_count": 22,
      "outputs": [
        {
          "output_type": "display_data",
          "data": {
            "text/plain": [
              "<Figure size 800x500 with 1 Axes>"
            ],
            "image/png": "[encoded data removed]"
          },
          "metadata": {}
        }
      ]
    },
    {
      "cell_type": "markdown",
      "source": [
        "**Вывод**\n",
        "\n",
        "В данной лабороторной работы были реализованы и обучены две модели: сверточная нейронная сеть (CNN) и рекуррентная нейронная сеть (LSTM) для классификации отзывов об отелях.\n",
        "Обе модели показали схожую точность, но CNN обучается быстрее. Для улучшения результатов можно попробовать более глубокие архитектуры, настройку гиперпараметров и использование предобученных эмбеддингов."
      ],
      "metadata": {
        "id": "5P7HSekHnn6h"
      }
    }
  ]
}